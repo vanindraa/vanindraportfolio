{
 "cells": [
  {
   "cell_type": "markdown",
   "id": "db593f31",
   "metadata": {},
   "source": [
    "# PYTHON HOMEWORK\n",
    "### Vanindra - Data Science Batch 21"
   ]
  },
  {
   "cell_type": "markdown",
   "id": "32245f7f",
   "metadata": {},
   "source": [
    "1. Tulis fungsi Python untuk menemukan angka terbesar dari tiga angka."
   ]
  },
  {
   "cell_type": "code",
   "execution_count": 1,
   "id": "32184853",
   "metadata": {},
   "outputs": [
    {
     "name": "stdout",
     "output_type": "stream",
     "text": [
      "30\n"
     ]
    }
   ],
   "source": [
    "#simple command if the values are known\n",
    "nomor1 = (10,20,30)\n",
    "\n",
    "print(max(nomor1))"
   ]
  },
  {
   "cell_type": "code",
   "execution_count": 2,
   "id": "f99503e0",
   "metadata": {},
   "outputs": [],
   "source": [
    "#function which functional for different sets of data with 3 values\n",
    "def max1(x,y,z): #di definisikan dulu fungsi yang diinginkan\n",
    "    if x > y and x > z: #kita gunakan saja if and untuk menentukan kondisi agar tidak overlap\n",
    "        return x #disini return yang diharapkan adalah x apabila ia lebih besar daripada y dan z\n",
    "    if y > x and y > z: #disini kita mendefinisikan apa yang terjadi saat y lebih besar dari x dan z\n",
    "        return y #ini adalah return yang kemudian diharapkan\n",
    "    else: #else digunakan karena hanya z yang perlu didefinisikan\n",
    "        return z"
   ]
  },
  {
   "cell_type": "code",
   "execution_count": 3,
   "id": "91088545",
   "metadata": {},
   "outputs": [
    {
     "data": {
      "text/plain": [
       "30"
      ]
     },
     "execution_count": 3,
     "metadata": {},
     "output_type": "execute_result"
    }
   ],
   "source": [
    "max1(30,20,21)"
   ]
  },
  {
   "cell_type": "code",
   "execution_count": 4,
   "id": "3fa01bbc",
   "metadata": {},
   "outputs": [
    {
     "data": {
      "text/plain": [
       "39"
      ]
     },
     "execution_count": 4,
     "metadata": {},
     "output_type": "execute_result"
    }
   ],
   "source": [
    "max1(20,21,39)"
   ]
  },
  {
   "cell_type": "code",
   "execution_count": 5,
   "id": "df01551a",
   "metadata": {},
   "outputs": [
    {
     "data": {
      "text/plain": [
       "300"
      ]
     },
     "execution_count": 5,
     "metadata": {},
     "output_type": "execute_result"
    }
   ],
   "source": [
    "max1(100,200,300)"
   ]
  },
  {
   "cell_type": "code",
   "execution_count": 6,
   "id": "7747d53e",
   "metadata": {},
   "outputs": [],
   "source": [
    "#we can use this function for more than 3 values\n",
    "def maks1(*args): #(Bonus) fungsi args digunakan saat values yang ada tidak diketahui jumlahnya\n",
    "    return max(args)"
   ]
  },
  {
   "cell_type": "code",
   "execution_count": 7,
   "id": "109e37f8",
   "metadata": {},
   "outputs": [
    {
     "data": {
      "text/plain": [
       "3000"
      ]
     },
     "execution_count": 7,
     "metadata": {},
     "output_type": "execute_result"
    }
   ],
   "source": [
    "maks1(1,3,4,5,6,7,4,2,4,5,6,7,7,6,4,2,3,4,5,2,100,200,3000)"
   ]
  },
  {
   "cell_type": "markdown",
   "id": "5c5105c8",
   "metadata": {},
   "source": [
    "2. Tulis fungsi Python untuk menjumlahkan semua angka dalam list."
   ]
  },
  {
   "cell_type": "code",
   "execution_count": 8,
   "id": "e54b7ed3",
   "metadata": {},
   "outputs": [],
   "source": [
    "#untuk simplicity, kita bisa gunakan function args\n",
    "def jumlah(*args2): #pertama kita definisikan dulu si argsnya\n",
    "    return sum(args2) #dan ini adalah return yang diharapkan. Sum artinya jumlah dari seluruh angka yang ada dalam list\n",
    "#tapi fungsi diatas tidak akan berfungsi jika tipe data bukan tuple\n"
   ]
  },
  {
   "cell_type": "code",
   "execution_count": 9,
   "id": "07b43e17",
   "metadata": {},
   "outputs": [
    {
     "name": "stdout",
     "output_type": "stream",
     "text": [
      "terjadi type error\n"
     ]
    },
    {
     "ename": "TypeError",
     "evalue": "unsupported operand type(s) for +: 'int' and 'list'",
     "output_type": "error",
     "traceback": [
      "\u001b[1;31m---------------------------------------------------------------------------\u001b[0m",
      "\u001b[1;31mTypeError\u001b[0m                                 Traceback (most recent call last)",
      "Cell \u001b[1;32mIn [9], line 3\u001b[0m\n\u001b[0;32m      1\u001b[0m \u001b[38;5;28mprint\u001b[39m(\u001b[38;5;124m'\u001b[39m\u001b[38;5;124mterjadi type error\u001b[39m\u001b[38;5;124m'\u001b[39m)\n\u001b[0;32m      2\u001b[0m angka \u001b[38;5;241m=\u001b[39m [\u001b[38;5;241m1\u001b[39m,\u001b[38;5;241m3\u001b[39m,\u001b[38;5;241m4\u001b[39m,\u001b[38;5;241m5\u001b[39m,\u001b[38;5;241m6\u001b[39m,\u001b[38;5;241m7\u001b[39m,\u001b[38;5;241m4\u001b[39m,\u001b[38;5;241m2\u001b[39m,\u001b[38;5;241m4\u001b[39m,\u001b[38;5;241m5\u001b[39m,\u001b[38;5;241m6\u001b[39m,\u001b[38;5;241m7\u001b[39m,\u001b[38;5;241m7\u001b[39m,\u001b[38;5;241m6\u001b[39m,\u001b[38;5;241m4\u001b[39m,\u001b[38;5;241m2\u001b[39m,\u001b[38;5;241m3\u001b[39m,\u001b[38;5;241m4\u001b[39m,\u001b[38;5;241m5\u001b[39m,\u001b[38;5;241m2\u001b[39m,\u001b[38;5;241m100\u001b[39m,\u001b[38;5;241m200\u001b[39m,\u001b[38;5;241m3000\u001b[39m]\n\u001b[1;32m----> 3\u001b[0m \u001b[43mjumlah\u001b[49m\u001b[43m(\u001b[49m\u001b[43mangka\u001b[49m\u001b[43m)\u001b[49m\n",
      "Cell \u001b[1;32mIn [8], line 3\u001b[0m, in \u001b[0;36mjumlah\u001b[1;34m(*args2)\u001b[0m\n\u001b[0;32m      2\u001b[0m \u001b[38;5;28;01mdef\u001b[39;00m \u001b[38;5;21mjumlah\u001b[39m(\u001b[38;5;241m*\u001b[39margs2): \u001b[38;5;66;03m#pertama kita definisikan dulu si argsnya\u001b[39;00m\n\u001b[1;32m----> 3\u001b[0m     \u001b[38;5;28;01mreturn\u001b[39;00m \u001b[38;5;28;43msum\u001b[39;49m\u001b[43m(\u001b[49m\u001b[43margs2\u001b[49m\u001b[43m)\u001b[49m\n",
      "\u001b[1;31mTypeError\u001b[0m: unsupported operand type(s) for +: 'int' and 'list'"
     ]
    }
   ],
   "source": [
    "print('terjadi type error')\n",
    "angka = [1,3,4,5,6,7,4,2,4,5,6,7,7,6,4,2,3,4,5,2,100,200,3000]\n",
    "jumlah(angka)"
   ]
  },
  {
   "cell_type": "code",
   "execution_count": 10,
   "id": "7c137b8a",
   "metadata": {},
   "outputs": [],
   "source": [
    "def jumlah_list(n): #ini fungsi yang digunakan untuk type list\n",
    "    return sum(n)"
   ]
  },
  {
   "cell_type": "code",
   "execution_count": 12,
   "id": "f80ce5c7",
   "metadata": {},
   "outputs": [
    {
     "data": {
      "text/plain": [
       "3387"
      ]
     },
     "execution_count": 12,
     "metadata": {},
     "output_type": "execute_result"
    }
   ],
   "source": [
    "angka = [1,3,4,5,6,7,4,2,4,5,6,7,7,6,4,2,3,4,5,2,100,200,3000]\n",
    "jumlah_list(angka)"
   ]
  },
  {
   "cell_type": "code",
   "execution_count": 13,
   "id": "2a6790f8",
   "metadata": {},
   "outputs": [
    {
     "data": {
      "text/plain": [
       "3387"
      ]
     },
     "execution_count": 13,
     "metadata": {},
     "output_type": "execute_result"
    }
   ],
   "source": [
    "jumlah(1,3,4,5,6,7,4,2,4,5,6,7,7,6,4,2,3,4,5,2,100,200,3000)"
   ]
  },
  {
   "cell_type": "code",
   "execution_count": 14,
   "id": "5c112cfb",
   "metadata": {},
   "outputs": [
    {
     "data": {
      "text/plain": [
       "3387"
      ]
     },
     "execution_count": 14,
     "metadata": {},
     "output_type": "execute_result"
    }
   ],
   "source": [
    "total = (1,3,4,5,6,7,4,2,4,5,6,7,7,6,4,2,3,4,5,2,100,200,3000)\n",
    "\n",
    "sum(total)"
   ]
  },
  {
   "cell_type": "code",
   "execution_count": 15,
   "id": "87683a67",
   "metadata": {},
   "outputs": [
    {
     "data": {
      "text/plain": [
       "3387"
      ]
     },
     "execution_count": 15,
     "metadata": {},
     "output_type": "execute_result"
    }
   ],
   "source": [
    "sum(angka) #Bisa pakai perintah sum jika tidak ingin membuat fungsi"
   ]
  },
  {
   "cell_type": "markdown",
   "id": "0d02e3c7",
   "metadata": {},
   "source": [
    "3. Tulis fungsi Python untuk mengalikan semua angka dalam list. \n",
    "Sample list : [8, 2, 3, -1, 7], Output yang Diharapkan : -336"
   ]
  },
  {
   "cell_type": "code",
   "execution_count": 16,
   "id": "fc26fb66",
   "metadata": {},
   "outputs": [
    {
     "name": "stdout",
     "output_type": "stream",
     "text": [
      "-336\n"
     ]
    }
   ],
   "source": [
    "#Sample list : [8, 2, 3, -1, 7], Output yang Diharapkan : -336\n",
    "\n",
    "sample = [8,2,3,-1,7]\n",
    "\n",
    "def multiply(list3): #fungsinya harus didefinisikan terlebih dahulu\n",
    "    result = 1 #ini digunakan sebagai parameter atau patokan \n",
    "    for i in list3:\n",
    "        result = i*result #looping jadi result0 kan 1, result 1 8x1, kemudian result 2 8x2\n",
    "    return result #result 3 16x3, and so on karena tiap loop dilakukan, si result ini valuenya akan berubah\n",
    "#result kemudian dikalikan ke masing-masing angka dalam list sampai akhirnya loop selesai pada angka 7\n",
    "\n",
    "print(multiply(sample))"
   ]
  },
  {
   "cell_type": "markdown",
   "id": "2e53d2cd",
   "metadata": {},
   "source": [
    "4. Tulis program Python untuk membalikkan string.\n",
    "Contoh String : \"1234abcd\", Output yang Diharapkan : \"dcba4321\""
   ]
  },
  {
   "cell_type": "code",
   "execution_count": 17,
   "id": "c0725507",
   "metadata": {},
   "outputs": [],
   "source": [
    "rev = \"1234abcd\" #untuk membalik ini, kita gunkan slice technique"
   ]
  },
  {
   "cell_type": "code",
   "execution_count": 18,
   "id": "312547ff",
   "metadata": {},
   "outputs": [
    {
     "name": "stdout",
     "output_type": "stream",
     "text": [
      "dcba4321\n"
     ]
    }
   ],
   "source": [
    "print(rev[::-1]) \n",
    "#slice technique. minus 1 di belakang artinya \n",
    "#kita print stringnya dari belakang maju kedepan dengan interval 1 (tidak lompat)"
   ]
  },
  {
   "cell_type": "markdown",
   "id": "efd96ed7",
   "metadata": {},
   "source": [
    "5. Tulis fungsi Python yang menerima string dan menghitung jumlah\n",
    "huruf besar dan huruf kecil.\n",
    "##### Contoh String : 'Hello World' , Output yang Diharapkan : Jumlah Karakter Huruf Besar : 2 dan Jumlah Karakter Huruf Kecil : 8"
   ]
  },
  {
   "cell_type": "code",
   "execution_count": 19,
   "id": "1b082a00",
   "metadata": {},
   "outputs": [
    {
     "data": {
      "text/plain": [
       "'Hello World'"
      ]
     },
     "execution_count": 19,
     "metadata": {},
     "output_type": "execute_result"
    }
   ],
   "source": [
    "string5 = \"Hello World\"\n",
    "\n",
    "string5"
   ]
  },
  {
   "cell_type": "code",
   "execution_count": 20,
   "id": "79855596",
   "metadata": {},
   "outputs": [
    {
     "name": "stdout",
     "output_type": "stream",
     "text": [
      "2 <- This is total of uppercase\n",
      "8 <- This is total of lowercase\n"
     ]
    }
   ],
   "source": [
    "uppercase = sum(1 for alpha in string5 if alpha.isupper()) #1 = True, alpha just a name, string5 variabel\n",
    "lowercase = sum(1 for alpha in string5 if alpha.islower()) #isupper/lower commandnya, sum command jumlah\n",
    "\n",
    "#Jadi baik di upper maupun lowercase, kita menghitung banyaknya uppercase dan lowecase menggunakan command sum\n",
    "#Tentunya kita hanya menghitung yang corresponding sehingga kita padukan dengan tipe Boolean 1 = True\n",
    "#1 merepresentasikan true, artinya hanya menghitung yang sesuai kriteria.\n",
    "\n",
    "print(uppercase, \"<- This is total of uppercase\")\n",
    "print(lowercase, \"<- This is total of lowercase\")"
   ]
  },
  {
   "cell_type": "code",
   "execution_count": 21,
   "id": "45f4e6f7",
   "metadata": {},
   "outputs": [
    {
     "name": "stdout",
     "output_type": "stream",
     "text": [
      "2 <- This is total of uppercase\n",
      "8 <- This is total of lowercase\n"
     ]
    }
   ],
   "source": [
    "# if using true instead of 1. same result\n",
    "uppercase = sum(True for alpha in string5 if alpha.isupper()) \n",
    "lowercase = sum(True for alpha in string5 if alpha.islower()) \n",
    "\n",
    "print(uppercase, \"<- This is total of uppercase\")\n",
    "print(lowercase, \"<- This is total of lowercase\")"
   ]
  },
  {
   "cell_type": "markdown",
   "id": "5a886e83",
   "metadata": {},
   "source": [
    "6. Tulis fungsi Python yang mengambil daftar dan mengembalikan list\n",
    "baru dengan elemen unik dari list pertama.\n",
    "##### Sample list : [1,2,3,3,3,3,4,5], Unique list : [1, 2, 3, 4, 5]"
   ]
  },
  {
   "cell_type": "code",
   "execution_count": 22,
   "id": "43091602",
   "metadata": {},
   "outputs": [],
   "source": [
    "sample = [1,2,3,3,3,3,4,5]\n",
    "\n",
    "#First let's use Numpy unique() function\n",
    "#Second without Numpy"
   ]
  },
  {
   "cell_type": "code",
   "execution_count": 23,
   "id": "a87b79c3",
   "metadata": {},
   "outputs": [],
   "source": [
    "import numpy as np"
   ]
  },
  {
   "cell_type": "code",
   "execution_count": 24,
   "id": "3774058a",
   "metadata": {},
   "outputs": [
    {
     "data": {
      "text/plain": [
       "array([1, 2, 3, 4, 5])"
      ]
     },
     "execution_count": 24,
     "metadata": {},
     "output_type": "execute_result"
    }
   ],
   "source": [
    "np.unique(sample) #dengan menggunakan numpy, kita bisa mengambil unique dengan command .unique()"
   ]
  },
  {
   "cell_type": "code",
   "execution_count": 25,
   "id": "302d83a4",
   "metadata": {},
   "outputs": [
    {
     "name": "stdout",
     "output_type": "stream",
     "text": [
      "[1 2 3 4 5]\n"
     ]
    }
   ],
   "source": [
    "#fungsinya adalah demikian\n",
    "def unique(n): #didefinisikan dahulu dengan def\n",
    "    return np.unique(n) #kemudian ini adalah returnya\n",
    "\n",
    "print(unique(sample))"
   ]
  },
  {
   "cell_type": "code",
   "execution_count": 26,
   "id": "f2d550a6",
   "metadata": {},
   "outputs": [],
   "source": [
    "#ini adalah fungsi tanpa menggunakan numpy\n",
    "def uniquelist(x):\n",
    "    return set(x) #set digunakan kareena sifat dalam set adalah tidak ada duplikat. otomatis semua value adalah unique"
   ]
  },
  {
   "cell_type": "code",
   "execution_count": 27,
   "id": "ad57b729",
   "metadata": {},
   "outputs": [
    {
     "name": "stdout",
     "output_type": "stream",
     "text": [
      "{1, 2, 3, 4, 5} <- set type\n",
      "<class 'set'> <- set type\n",
      "[1, 2, 3, 4, 5] <- list type\n",
      "<class 'list'> <- list type\n"
     ]
    }
   ],
   "source": [
    "print(uniquelist(sample), '<- set type')\n",
    "print(type(uniquelist(sample)), '<- set type')\n",
    "print(list(uniquelist(sample)), '<- list type') #kalau tipenya mau dijadikan list, sesederhana menambahkan perintah list\n",
    "print(type(list(uniquelist(sample))), '<- list type')"
   ]
  },
  {
   "cell_type": "code",
   "execution_count": 28,
   "id": "a736e751",
   "metadata": {},
   "outputs": [],
   "source": [
    "def uniquelist2(x):\n",
    "    return list(set(x))"
   ]
  },
  {
   "cell_type": "code",
   "execution_count": 29,
   "id": "b287bebd",
   "metadata": {},
   "outputs": [
    {
     "name": "stdout",
     "output_type": "stream",
     "text": [
      "[1, 2, 3, 4, 5]\n",
      "<class 'list'>\n"
     ]
    }
   ],
   "source": [
    "print(uniquelist2(sample))\n",
    "print(type(uniquelist2(sample)))"
   ]
  },
  {
   "cell_type": "code",
   "execution_count": 30,
   "id": "f69e9dc8",
   "metadata": {},
   "outputs": [
    {
     "data": {
      "text/plain": [
       "{1, 2, 3, 4, 5}"
      ]
     },
     "execution_count": 30,
     "metadata": {},
     "output_type": "execute_result"
    }
   ],
   "source": [
    "#tapi kalau tidak mau membuat fungsi, bisa menggunakan perintah set walaupun harus satu persatu\n",
    "\n",
    "set(sample)"
   ]
  },
  {
   "cell_type": "code",
   "execution_count": 31,
   "id": "f2ef5305",
   "metadata": {},
   "outputs": [
    {
     "name": "stdout",
     "output_type": "stream",
     "text": [
      "{1, 2, 3, 4, 5, 6} <-set bahkan mengurutkan dari angka terkecil\n"
     ]
    }
   ],
   "source": [
    "#let's do another one to make sure\n",
    "sample2 = [1,1,1,1,1,2,3,4,5,5,6,3,3,4,5,6]\n",
    "\n",
    "print(set(sample2), \"<-set bahkan mengurutkan dari angka terkecil\")"
   ]
  },
  {
   "cell_type": "markdown",
   "id": "e5ee4461",
   "metadata": {},
   "source": [
    "7. Tulis fungsi Python yang menggunakan angka sebagai input\n",
    "parameter dan periksa angkanya prima atau tidak"
   ]
  },
  {
   "cell_type": "markdown",
   "id": "e0006105",
   "metadata": {},
   "source": [
    "##### digunakan for loop karena kita membuat sebuah range. i harus ngerange dari 2 sampai ke sebelum nomor yang dicari. kalau ada angka lain selain 1 dan (num) yang membagi habis, maka ia bukan bilangan prima"
   ]
  },
  {
   "cell_type": "code",
   "execution_count": 32,
   "id": "0b75a71d",
   "metadata": {},
   "outputs": [],
   "source": [
    "def prime(num):\n",
    "    if num>1: #bilangan prima harus lebih dari 1\n",
    "        for i in range(2,num): #for loop digunakan karena ada range tertentu di fungsi ini\n",
    "            if (num % i) == 0: #bilangan prima hanya boleh habis dibagi 1 dan bilangan itu sendiri\n",
    "                #dia akan meloop dari list range untuk menemukan apakah ada bilangan lain yang habis membagi si 'num' selain 1 dan angka (num) itu sendiri\n",
    "                return \"{} is not prime\".format(num) #return jika ada angka lain yang habis membagi si 'num'\n",
    "                break\n",
    "        else:\n",
    "            return \"{} is prime\".format(num) #return saat tidak ada angka dalam range yang habis membagi 'num'\n",
    "    else:\n",
    "        return \"Must be greater than 1\" #bilangan prima harus lebih dari 1"
   ]
  },
  {
   "cell_type": "code",
   "execution_count": 33,
   "id": "55d1871c",
   "metadata": {},
   "outputs": [
    {
     "data": {
      "text/plain": [
       "'59 is prime'"
      ]
     },
     "execution_count": 33,
     "metadata": {},
     "output_type": "execute_result"
    }
   ],
   "source": [
    "prime(59)"
   ]
  },
  {
   "cell_type": "code",
   "execution_count": 34,
   "id": "66234cc8",
   "metadata": {},
   "outputs": [
    {
     "data": {
      "text/plain": [
       "'Must be greater than 1'"
      ]
     },
     "execution_count": 34,
     "metadata": {},
     "output_type": "execute_result"
    }
   ],
   "source": [
    "prime(0)"
   ]
  },
  {
   "cell_type": "code",
   "execution_count": 35,
   "id": "81d06532",
   "metadata": {},
   "outputs": [
    {
     "data": {
      "text/plain": [
       "'23 is prime'"
      ]
     },
     "execution_count": 35,
     "metadata": {},
     "output_type": "execute_result"
    }
   ],
   "source": [
    "prime(23)"
   ]
  },
  {
   "cell_type": "code",
   "execution_count": 36,
   "id": "555b236b",
   "metadata": {},
   "outputs": [
    {
     "data": {
      "text/plain": [
       "'29 is prime'"
      ]
     },
     "execution_count": 36,
     "metadata": {},
     "output_type": "execute_result"
    }
   ],
   "source": [
    "prime(29)"
   ]
  },
  {
   "cell_type": "code",
   "execution_count": 37,
   "id": "ef664783",
   "metadata": {},
   "outputs": [
    {
     "data": {
      "text/plain": [
       "'50 is not prime'"
      ]
     },
     "execution_count": 37,
     "metadata": {},
     "output_type": "execute_result"
    }
   ],
   "source": [
    "prime(50)"
   ]
  },
  {
   "cell_type": "code",
   "execution_count": 38,
   "id": "b536e5c0",
   "metadata": {},
   "outputs": [
    {
     "data": {
      "text/plain": [
       "'51 is not prime'"
      ]
     },
     "execution_count": 38,
     "metadata": {},
     "output_type": "execute_result"
    }
   ],
   "source": [
    "prime(51)"
   ]
  },
  {
   "cell_type": "markdown",
   "id": "b80b34ea",
   "metadata": {},
   "source": [
    "8. Tulis program Python untuk mencetak bilangan genap dari list yang\n",
    "diberikan.\n",
    "##### Sample list : [1, 2, 3, 4, 5, 6, 7, 8, 9], Hasil yang Diharapkan : [2, 4, 6, 8]"
   ]
  },
  {
   "cell_type": "code",
   "execution_count": 39,
   "id": "1d6f8e3e",
   "metadata": {},
   "outputs": [
    {
     "name": "stdout",
     "output_type": "stream",
     "text": [
      "[2, 4, 6, 8] <- ini adalah list genap\n",
      "[1, 3, 5, 7, 9] <- ini adalah list ganjil\n"
     ]
    }
   ],
   "source": [
    "sample8 = [1, 2, 3, 4, 5, 6, 7, 8, 9]\n",
    "genap = []\n",
    "ganjil = []\n",
    "\n",
    "for i in sample8: #digunakan for loop\n",
    "    if i%2==0: #sifat bilangan genap adalah habis dibagi 2\n",
    "        genap.append(i) #saat i merupakan bilangan yang habis dibagi 2, ia dimasukkan ke list genap\n",
    "    else:\n",
    "        ganjil.append(i) #apabila i tidak habis dibagi 2, maka ia ditambahkan ke list ganjil\n",
    "print(genap, '<- ini adalah list genap')\n",
    "print(ganjil, '<- ini adalah list ganjil')"
   ]
  }
 ],
 "metadata": {
  "kernelspec": {
   "display_name": "Python 3 (ipykernel)",
   "language": "python",
   "name": "python3"
  },
  "language_info": {
   "codemirror_mode": {
    "name": "ipython",
    "version": 3
   },
   "file_extension": ".py",
   "mimetype": "text/x-python",
   "name": "python",
   "nbconvert_exporter": "python",
   "pygments_lexer": "ipython3",
   "version": "3.10.8"
  }
 },
 "nbformat": 4,
 "nbformat_minor": 5
}
