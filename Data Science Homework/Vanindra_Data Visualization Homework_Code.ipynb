{
 "cells": [
  {
   "cell_type": "code",
   "execution_count": 1,
   "id": "ef60996b",
   "metadata": {
    "id": "ef60996b"
   },
   "outputs": [],
   "source": [
    "import pandas as pd\n",
    "import numpy as np\n",
    "import matplotlib.pyplot as plt\n",
    "import seaborn as sea"
   ]
  },
  {
   "cell_type": "code",
   "execution_count": 3,
   "id": "246f46a3",
   "metadata": {
    "colab": {
     "base_uri": "https://localhost:8080/",
     "height": 386
    },
    "id": "246f46a3",
    "outputId": "c58f9f5b-f83a-4b28-de3c-ead98ccd59ab"
   },
   "outputs": [
    {
     "data": {
      "text/html": [
       "<div>\n",
       "<style scoped>\n",
       "    .dataframe tbody tr th:only-of-type {\n",
       "        vertical-align: middle;\n",
       "    }\n",
       "\n",
       "    .dataframe tbody tr th {\n",
       "        vertical-align: top;\n",
       "    }\n",
       "\n",
       "    .dataframe thead th {\n",
       "        text-align: right;\n",
       "    }\n",
       "</style>\n",
       "<table border=\"1\" class=\"dataframe\">\n",
       "  <thead>\n",
       "    <tr style=\"text-align: right;\">\n",
       "      <th></th>\n",
       "      <th>CLIENTNUM</th>\n",
       "      <th>Attrition_Flag</th>\n",
       "      <th>Customer_Age</th>\n",
       "      <th>Gender</th>\n",
       "      <th>Dependent_count</th>\n",
       "      <th>Education_Level</th>\n",
       "      <th>Marital_Status</th>\n",
       "      <th>Income_Category</th>\n",
       "      <th>Card_Category</th>\n",
       "      <th>Months_on_book</th>\n",
       "      <th>...</th>\n",
       "      <th>Credit_Limit</th>\n",
       "      <th>Total_Revolving_Bal</th>\n",
       "      <th>Avg_Open_To_Buy</th>\n",
       "      <th>Total_Amt_Chng_Q4_Q1</th>\n",
       "      <th>Total_Trans_Amt</th>\n",
       "      <th>Total_Trans_Ct</th>\n",
       "      <th>Total_Ct_Chng_Q4_Q1</th>\n",
       "      <th>Avg_Utilization_Ratio</th>\n",
       "      <th>Naive_Bayes_Classifier_Attrition_Flag_Card_Category_Contacts_Count_12_mon_Dependent_count_Education_Level_Months_Inactive_12_mon_1</th>\n",
       "      <th>Naive_Bayes_Classifier_Attrition_Flag_Card_Category_Contacts_Count_12_mon_Dependent_count_Education_Level_Months_Inactive_12_mon_2</th>\n",
       "    </tr>\n",
       "  </thead>\n",
       "  <tbody>\n",
       "    <tr>\n",
       "      <th>0</th>\n",
       "      <td>768805383</td>\n",
       "      <td>Existing Customer</td>\n",
       "      <td>45</td>\n",
       "      <td>M</td>\n",
       "      <td>3</td>\n",
       "      <td>High School</td>\n",
       "      <td>Married</td>\n",
       "      <td>$60K - $80K</td>\n",
       "      <td>Blue</td>\n",
       "      <td>39</td>\n",
       "      <td>...</td>\n",
       "      <td>12691.0</td>\n",
       "      <td>777</td>\n",
       "      <td>11914.0</td>\n",
       "      <td>1.335</td>\n",
       "      <td>1144</td>\n",
       "      <td>42</td>\n",
       "      <td>1.625</td>\n",
       "      <td>0.061</td>\n",
       "      <td>0.000093</td>\n",
       "      <td>0.99991</td>\n",
       "    </tr>\n",
       "    <tr>\n",
       "      <th>1</th>\n",
       "      <td>818770008</td>\n",
       "      <td>Existing Customer</td>\n",
       "      <td>49</td>\n",
       "      <td>F</td>\n",
       "      <td>5</td>\n",
       "      <td>Graduate</td>\n",
       "      <td>Single</td>\n",
       "      <td>Less than $40K</td>\n",
       "      <td>Blue</td>\n",
       "      <td>44</td>\n",
       "      <td>...</td>\n",
       "      <td>8256.0</td>\n",
       "      <td>864</td>\n",
       "      <td>7392.0</td>\n",
       "      <td>1.541</td>\n",
       "      <td>1291</td>\n",
       "      <td>33</td>\n",
       "      <td>3.714</td>\n",
       "      <td>0.105</td>\n",
       "      <td>0.000057</td>\n",
       "      <td>0.99994</td>\n",
       "    </tr>\n",
       "    <tr>\n",
       "      <th>2</th>\n",
       "      <td>713982108</td>\n",
       "      <td>Existing Customer</td>\n",
       "      <td>51</td>\n",
       "      <td>M</td>\n",
       "      <td>3</td>\n",
       "      <td>Graduate</td>\n",
       "      <td>Married</td>\n",
       "      <td>$80K - $120K</td>\n",
       "      <td>Blue</td>\n",
       "      <td>36</td>\n",
       "      <td>...</td>\n",
       "      <td>3418.0</td>\n",
       "      <td>0</td>\n",
       "      <td>3418.0</td>\n",
       "      <td>2.594</td>\n",
       "      <td>1887</td>\n",
       "      <td>20</td>\n",
       "      <td>2.333</td>\n",
       "      <td>0.000</td>\n",
       "      <td>0.000021</td>\n",
       "      <td>0.99998</td>\n",
       "    </tr>\n",
       "    <tr>\n",
       "      <th>3</th>\n",
       "      <td>769911858</td>\n",
       "      <td>Existing Customer</td>\n",
       "      <td>40</td>\n",
       "      <td>F</td>\n",
       "      <td>4</td>\n",
       "      <td>High School</td>\n",
       "      <td>Unknown</td>\n",
       "      <td>Less than $40K</td>\n",
       "      <td>Blue</td>\n",
       "      <td>34</td>\n",
       "      <td>...</td>\n",
       "      <td>3313.0</td>\n",
       "      <td>2517</td>\n",
       "      <td>796.0</td>\n",
       "      <td>1.405</td>\n",
       "      <td>1171</td>\n",
       "      <td>20</td>\n",
       "      <td>2.333</td>\n",
       "      <td>0.760</td>\n",
       "      <td>0.000134</td>\n",
       "      <td>0.99987</td>\n",
       "    </tr>\n",
       "    <tr>\n",
       "      <th>4</th>\n",
       "      <td>709106358</td>\n",
       "      <td>Existing Customer</td>\n",
       "      <td>40</td>\n",
       "      <td>M</td>\n",
       "      <td>3</td>\n",
       "      <td>Uneducated</td>\n",
       "      <td>Married</td>\n",
       "      <td>$60K - $80K</td>\n",
       "      <td>Blue</td>\n",
       "      <td>21</td>\n",
       "      <td>...</td>\n",
       "      <td>4716.0</td>\n",
       "      <td>0</td>\n",
       "      <td>4716.0</td>\n",
       "      <td>2.175</td>\n",
       "      <td>816</td>\n",
       "      <td>28</td>\n",
       "      <td>2.500</td>\n",
       "      <td>0.000</td>\n",
       "      <td>0.000022</td>\n",
       "      <td>0.99998</td>\n",
       "    </tr>\n",
       "  </tbody>\n",
       "</table>\n",
       "<p>5 rows × 23 columns</p>\n",
       "</div>"
      ],
      "text/plain": [
       "   CLIENTNUM     Attrition_Flag  Customer_Age Gender  Dependent_count  \\\n",
       "0  768805383  Existing Customer            45      M                3   \n",
       "1  818770008  Existing Customer            49      F                5   \n",
       "2  713982108  Existing Customer            51      M                3   \n",
       "3  769911858  Existing Customer            40      F                4   \n",
       "4  709106358  Existing Customer            40      M                3   \n",
       "\n",
       "  Education_Level Marital_Status Income_Category Card_Category  \\\n",
       "0     High School        Married     $60K - $80K          Blue   \n",
       "1        Graduate         Single  Less than $40K          Blue   \n",
       "2        Graduate        Married    $80K - $120K          Blue   \n",
       "3     High School        Unknown  Less than $40K          Blue   \n",
       "4      Uneducated        Married     $60K - $80K          Blue   \n",
       "\n",
       "   Months_on_book  ...  Credit_Limit  Total_Revolving_Bal  Avg_Open_To_Buy  \\\n",
       "0              39  ...       12691.0                  777          11914.0   \n",
       "1              44  ...        8256.0                  864           7392.0   \n",
       "2              36  ...        3418.0                    0           3418.0   \n",
       "3              34  ...        3313.0                 2517            796.0   \n",
       "4              21  ...        4716.0                    0           4716.0   \n",
       "\n",
       "   Total_Amt_Chng_Q4_Q1  Total_Trans_Amt  Total_Trans_Ct  Total_Ct_Chng_Q4_Q1  \\\n",
       "0                 1.335             1144              42                1.625   \n",
       "1                 1.541             1291              33                3.714   \n",
       "2                 2.594             1887              20                2.333   \n",
       "3                 1.405             1171              20                2.333   \n",
       "4                 2.175              816              28                2.500   \n",
       "\n",
       "   Avg_Utilization_Ratio  \\\n",
       "0                  0.061   \n",
       "1                  0.105   \n",
       "2                  0.000   \n",
       "3                  0.760   \n",
       "4                  0.000   \n",
       "\n",
       "   Naive_Bayes_Classifier_Attrition_Flag_Card_Category_Contacts_Count_12_mon_Dependent_count_Education_Level_Months_Inactive_12_mon_1  \\\n",
       "0                                           0.000093                                                                                    \n",
       "1                                           0.000057                                                                                    \n",
       "2                                           0.000021                                                                                    \n",
       "3                                           0.000134                                                                                    \n",
       "4                                           0.000022                                                                                    \n",
       "\n",
       "   Naive_Bayes_Classifier_Attrition_Flag_Card_Category_Contacts_Count_12_mon_Dependent_count_Education_Level_Months_Inactive_12_mon_2  \n",
       "0                                            0.99991                                                                                   \n",
       "1                                            0.99994                                                                                   \n",
       "2                                            0.99998                                                                                   \n",
       "3                                            0.99987                                                                                   \n",
       "4                                            0.99998                                                                                   \n",
       "\n",
       "[5 rows x 23 columns]"
      ]
     },
     "execution_count": 3,
     "metadata": {},
     "output_type": "execute_result"
    }
   ],
   "source": [
    "credit = pd.read_csv('https://raw.githubusercontent.com/vanindraa/vanindrarepo/master/BankChurners.csv')\n",
    "credit.head()"
   ]
  },
  {
   "cell_type": "code",
   "execution_count": 3,
   "id": "0fab4648",
   "metadata": {
    "id": "0fab4648",
    "outputId": "d515e583-30ae-48c5-8be1-bc9317af82f6"
   },
   "outputs": [
    {
     "data": {
      "text/plain": [
       "(10127, 23)"
      ]
     },
     "execution_count": 3,
     "metadata": {},
     "output_type": "execute_result"
    }
   ],
   "source": [
    "credit.shape"
   ]
  },
  {
   "cell_type": "code",
   "execution_count": 4,
   "id": "9469e82a",
   "metadata": {
    "id": "9469e82a",
    "outputId": "64fc512d-70d4-4000-a696-967dcdafff51"
   },
   "outputs": [
    {
     "name": "stdout",
     "output_type": "stream",
     "text": [
      "<class 'pandas.core.frame.DataFrame'>\n",
      "RangeIndex: 10127 entries, 0 to 10126\n",
      "Data columns (total 23 columns):\n",
      " #   Column                                                                                                                              Non-Null Count  Dtype  \n",
      "---  ------                                                                                                                              --------------  -----  \n",
      " 0   CLIENTNUM                                                                                                                           10127 non-null  int64  \n",
      " 1   Attrition_Flag                                                                                                                      10127 non-null  object \n",
      " 2   Customer_Age                                                                                                                        10127 non-null  int64  \n",
      " 3   Gender                                                                                                                              10127 non-null  object \n",
      " 4   Dependent_count                                                                                                                     10127 non-null  int64  \n",
      " 5   Education_Level                                                                                                                     10127 non-null  object \n",
      " 6   Marital_Status                                                                                                                      10127 non-null  object \n",
      " 7   Income_Category                                                                                                                     10127 non-null  object \n",
      " 8   Card_Category                                                                                                                       10127 non-null  object \n",
      " 9   Months_on_book                                                                                                                      10127 non-null  int64  \n",
      " 10  Total_Relationship_Count                                                                                                            10127 non-null  int64  \n",
      " 11  Months_Inactive_12_mon                                                                                                              10127 non-null  int64  \n",
      " 12  Contacts_Count_12_mon                                                                                                               10127 non-null  int64  \n",
      " 13  Credit_Limit                                                                                                                        10127 non-null  float64\n",
      " 14  Total_Revolving_Bal                                                                                                                 10127 non-null  int64  \n",
      " 15  Avg_Open_To_Buy                                                                                                                     10127 non-null  float64\n",
      " 16  Total_Amt_Chng_Q4_Q1                                                                                                                10127 non-null  float64\n",
      " 17  Total_Trans_Amt                                                                                                                     10127 non-null  int64  \n",
      " 18  Total_Trans_Ct                                                                                                                      10127 non-null  int64  \n",
      " 19  Total_Ct_Chng_Q4_Q1                                                                                                                 10127 non-null  float64\n",
      " 20  Avg_Utilization_Ratio                                                                                                               10127 non-null  float64\n",
      " 21  Naive_Bayes_Classifier_Attrition_Flag_Card_Category_Contacts_Count_12_mon_Dependent_count_Education_Level_Months_Inactive_12_mon_1  10127 non-null  float64\n",
      " 22  Naive_Bayes_Classifier_Attrition_Flag_Card_Category_Contacts_Count_12_mon_Dependent_count_Education_Level_Months_Inactive_12_mon_2  10127 non-null  float64\n",
      "dtypes: float64(7), int64(10), object(6)\n",
      "memory usage: 1.8+ MB\n"
     ]
    }
   ],
   "source": [
    "credit.info()"
   ]
  },
  {
   "cell_type": "code",
   "execution_count": 5,
   "id": "29eecae8",
   "metadata": {
    "id": "29eecae8"
   },
   "outputs": [],
   "source": [
    "#Dua kolom ini di drop berdasarkan instruksi dari yang mengupload data di Kaggle\n",
    "\n",
    "credit = credit.drop(columns='Naive_Bayes_Classifier_Attrition_Flag_Card_Category_Contacts_Count_12_mon_Dependent_count_Education_Level_Months_Inactive_12_mon_1', axis=1)\n",
    "credit = credit.drop(columns='Naive_Bayes_Classifier_Attrition_Flag_Card_Category_Contacts_Count_12_mon_Dependent_count_Education_Level_Months_Inactive_12_mon_2', axis=1)"
   ]
  },
  {
   "cell_type": "code",
   "execution_count": 6,
   "id": "140cb652",
   "metadata": {
    "id": "140cb652",
    "outputId": "ac13b5f7-3987-4039-fcbe-4de18792b18d"
   },
   "outputs": [
    {
     "name": "stdout",
     "output_type": "stream",
     "text": [
      "<class 'pandas.core.frame.DataFrame'>\n",
      "RangeIndex: 10127 entries, 0 to 10126\n",
      "Data columns (total 21 columns):\n",
      " #   Column                    Non-Null Count  Dtype  \n",
      "---  ------                    --------------  -----  \n",
      " 0   CLIENTNUM                 10127 non-null  int64  \n",
      " 1   Attrition_Flag            10127 non-null  object \n",
      " 2   Customer_Age              10127 non-null  int64  \n",
      " 3   Gender                    10127 non-null  object \n",
      " 4   Dependent_count           10127 non-null  int64  \n",
      " 5   Education_Level           10127 non-null  object \n",
      " 6   Marital_Status            10127 non-null  object \n",
      " 7   Income_Category           10127 non-null  object \n",
      " 8   Card_Category             10127 non-null  object \n",
      " 9   Months_on_book            10127 non-null  int64  \n",
      " 10  Total_Relationship_Count  10127 non-null  int64  \n",
      " 11  Months_Inactive_12_mon    10127 non-null  int64  \n",
      " 12  Contacts_Count_12_mon     10127 non-null  int64  \n",
      " 13  Credit_Limit              10127 non-null  float64\n",
      " 14  Total_Revolving_Bal       10127 non-null  int64  \n",
      " 15  Avg_Open_To_Buy           10127 non-null  float64\n",
      " 16  Total_Amt_Chng_Q4_Q1      10127 non-null  float64\n",
      " 17  Total_Trans_Amt           10127 non-null  int64  \n",
      " 18  Total_Trans_Ct            10127 non-null  int64  \n",
      " 19  Total_Ct_Chng_Q4_Q1       10127 non-null  float64\n",
      " 20  Avg_Utilization_Ratio     10127 non-null  float64\n",
      "dtypes: float64(5), int64(10), object(6)\n",
      "memory usage: 1.6+ MB\n"
     ]
    }
   ],
   "source": [
    "credit.info()"
   ]
  },
  {
   "cell_type": "code",
   "execution_count": 7,
   "id": "55c1076d",
   "metadata": {
    "id": "55c1076d",
    "outputId": "bf1c208c-c8af-4bde-83c3-80156a715987"
   },
   "outputs": [
    {
     "data": {
      "text/plain": [
       "CLIENTNUM                   0\n",
       "Attrition_Flag              0\n",
       "Customer_Age                0\n",
       "Gender                      0\n",
       "Dependent_count             0\n",
       "Education_Level             0\n",
       "Marital_Status              0\n",
       "Income_Category             0\n",
       "Card_Category               0\n",
       "Months_on_book              0\n",
       "Total_Relationship_Count    0\n",
       "Months_Inactive_12_mon      0\n",
       "Contacts_Count_12_mon       0\n",
       "Credit_Limit                0\n",
       "Total_Revolving_Bal         0\n",
       "Avg_Open_To_Buy             0\n",
       "Total_Amt_Chng_Q4_Q1        0\n",
       "Total_Trans_Amt             0\n",
       "Total_Trans_Ct              0\n",
       "Total_Ct_Chng_Q4_Q1         0\n",
       "Avg_Utilization_Ratio       0\n",
       "dtype: int64"
      ]
     },
     "execution_count": 7,
     "metadata": {},
     "output_type": "execute_result"
    }
   ],
   "source": [
    "credit.isna().sum()"
   ]
  },
  {
   "cell_type": "markdown",
   "id": "e5ac63e6",
   "metadata": {
    "id": "e5ac63e6"
   },
   "source": [
    "# Let's Prepare The Data To be Visualized"
   ]
  },
  {
   "cell_type": "markdown",
   "id": "feae1cb6",
   "metadata": {
    "id": "feae1cb6"
   },
   "source": [
    "Pada dataset credit card customer, berikan visualisasi dan insight dari berbagai\n",
    "variabel yang tersedia, dapat dikelompokkan berdasarkan Attrition_Flag,\n",
    "Customer_Age, Gender, Education_Level, dan Income_Category."
   ]
  },
  {
   "cell_type": "code",
   "execution_count": 8,
   "id": "911d8ada",
   "metadata": {
    "id": "911d8ada"
   },
   "outputs": [],
   "source": [
    "vis = credit[['CLIENTNUM','Card_Category','Attrition_Flag','Customer_Age','Gender','Education_Level','Income_Category']]"
   ]
  },
  {
   "cell_type": "code",
   "execution_count": 9,
   "id": "e9d452db",
   "metadata": {
    "id": "e9d452db",
    "outputId": "783c79d6-efb0-4c43-986a-3de8c98d2797"
   },
   "outputs": [
    {
     "data": {
      "text/html": [
       "<div>\n",
       "<style scoped>\n",
       "    .dataframe tbody tr th:only-of-type {\n",
       "        vertical-align: middle;\n",
       "    }\n",
       "\n",
       "    .dataframe tbody tr th {\n",
       "        vertical-align: top;\n",
       "    }\n",
       "\n",
       "    .dataframe thead th {\n",
       "        text-align: right;\n",
       "    }\n",
       "</style>\n",
       "<table border=\"1\" class=\"dataframe\">\n",
       "  <thead>\n",
       "    <tr style=\"text-align: right;\">\n",
       "      <th></th>\n",
       "      <th>CLIENTNUM</th>\n",
       "      <th>Card_Category</th>\n",
       "      <th>Attrition_Flag</th>\n",
       "      <th>Customer_Age</th>\n",
       "      <th>Gender</th>\n",
       "      <th>Education_Level</th>\n",
       "      <th>Income_Category</th>\n",
       "    </tr>\n",
       "  </thead>\n",
       "  <tbody>\n",
       "    <tr>\n",
       "      <th>0</th>\n",
       "      <td>768805383</td>\n",
       "      <td>Blue</td>\n",
       "      <td>Existing Customer</td>\n",
       "      <td>45</td>\n",
       "      <td>M</td>\n",
       "      <td>High School</td>\n",
       "      <td>$60K - $80K</td>\n",
       "    </tr>\n",
       "    <tr>\n",
       "      <th>1</th>\n",
       "      <td>818770008</td>\n",
       "      <td>Blue</td>\n",
       "      <td>Existing Customer</td>\n",
       "      <td>49</td>\n",
       "      <td>F</td>\n",
       "      <td>Graduate</td>\n",
       "      <td>Less than $40K</td>\n",
       "    </tr>\n",
       "    <tr>\n",
       "      <th>2</th>\n",
       "      <td>713982108</td>\n",
       "      <td>Blue</td>\n",
       "      <td>Existing Customer</td>\n",
       "      <td>51</td>\n",
       "      <td>M</td>\n",
       "      <td>Graduate</td>\n",
       "      <td>$80K - $120K</td>\n",
       "    </tr>\n",
       "    <tr>\n",
       "      <th>3</th>\n",
       "      <td>769911858</td>\n",
       "      <td>Blue</td>\n",
       "      <td>Existing Customer</td>\n",
       "      <td>40</td>\n",
       "      <td>F</td>\n",
       "      <td>High School</td>\n",
       "      <td>Less than $40K</td>\n",
       "    </tr>\n",
       "    <tr>\n",
       "      <th>4</th>\n",
       "      <td>709106358</td>\n",
       "      <td>Blue</td>\n",
       "      <td>Existing Customer</td>\n",
       "      <td>40</td>\n",
       "      <td>M</td>\n",
       "      <td>Uneducated</td>\n",
       "      <td>$60K - $80K</td>\n",
       "    </tr>\n",
       "  </tbody>\n",
       "</table>\n",
       "</div>"
      ],
      "text/plain": [
       "   CLIENTNUM Card_Category     Attrition_Flag  Customer_Age Gender  \\\n",
       "0  768805383          Blue  Existing Customer            45      M   \n",
       "1  818770008          Blue  Existing Customer            49      F   \n",
       "2  713982108          Blue  Existing Customer            51      M   \n",
       "3  769911858          Blue  Existing Customer            40      F   \n",
       "4  709106358          Blue  Existing Customer            40      M   \n",
       "\n",
       "  Education_Level Income_Category  \n",
       "0     High School     $60K - $80K  \n",
       "1        Graduate  Less than $40K  \n",
       "2        Graduate    $80K - $120K  \n",
       "3     High School  Less than $40K  \n",
       "4      Uneducated     $60K - $80K  "
      ]
     },
     "execution_count": 9,
     "metadata": {},
     "output_type": "execute_result"
    }
   ],
   "source": [
    "vis.head()"
   ]
  },
  {
   "cell_type": "code",
   "execution_count": 10,
   "id": "47a143a0",
   "metadata": {
    "id": "47a143a0",
    "outputId": "a2c4e375-f22a-4961-ad87-e156a9cb7b1b"
   },
   "outputs": [
    {
     "data": {
      "text/plain": [
       "array(['Existing Customer', 'Attrited Customer'], dtype=object)"
      ]
     },
     "execution_count": 10,
     "metadata": {},
     "output_type": "execute_result"
    }
   ],
   "source": [
    "vis['Attrition_Flag'].unique()"
   ]
  },
  {
   "cell_type": "markdown",
   "id": "97369a04",
   "metadata": {},
   "source": [
    "### ---------------------------------------------------DIVIDER------------------------------------------------"
   ]
  },
  {
   "cell_type": "markdown",
   "id": "621f58e6",
   "metadata": {
    "id": "621f58e6"
   },
   "source": [
    "# Attrition Flag"
   ]
  },
  {
   "cell_type": "markdown",
   "id": "a759d990",
   "metadata": {
    "id": "a759d990"
   },
   "source": [
    "In this data, we have two unique values. Existing and Attrited Customer. Meaning, we can see how many customers we have lost"
   ]
  },
  {
   "cell_type": "code",
   "execution_count": 11,
   "id": "268a4a2e",
   "metadata": {
    "id": "268a4a2e",
    "outputId": "5a29882e-0a98-41f2-f379-632ae32342c3",
    "scrolled": true
   },
   "outputs": [
    {
     "data": {
      "text/html": [
       "<div>\n",
       "<style scoped>\n",
       "    .dataframe tbody tr th:only-of-type {\n",
       "        vertical-align: middle;\n",
       "    }\n",
       "\n",
       "    .dataframe tbody tr th {\n",
       "        vertical-align: top;\n",
       "    }\n",
       "\n",
       "    .dataframe thead th {\n",
       "        text-align: right;\n",
       "    }\n",
       "</style>\n",
       "<table border=\"1\" class=\"dataframe\">\n",
       "  <thead>\n",
       "    <tr style=\"text-align: right;\">\n",
       "      <th></th>\n",
       "      <th>index</th>\n",
       "      <th>Attrition_Flag</th>\n",
       "    </tr>\n",
       "  </thead>\n",
       "  <tbody>\n",
       "    <tr>\n",
       "      <th>0</th>\n",
       "      <td>Existing Customer</td>\n",
       "      <td>8500</td>\n",
       "    </tr>\n",
       "    <tr>\n",
       "      <th>1</th>\n",
       "      <td>Attrited Customer</td>\n",
       "      <td>1627</td>\n",
       "    </tr>\n",
       "  </tbody>\n",
       "</table>\n",
       "</div>"
      ],
      "text/plain": [
       "               index  Attrition_Flag\n",
       "0  Existing Customer            8500\n",
       "1  Attrited Customer            1627"
      ]
     },
     "execution_count": 11,
     "metadata": {},
     "output_type": "execute_result"
    }
   ],
   "source": [
    "att = vis['Attrition_Flag'].value_counts().reset_index()\n",
    "att"
   ]
  },
  {
   "cell_type": "code",
   "execution_count": 12,
   "id": "39364cb4",
   "metadata": {
    "id": "39364cb4",
    "outputId": "edf082fc-1f06-4838-aede-ce9b2a36deb9"
   },
   "outputs": [
    {
     "data": {
      "image/png": "[encoded data removed]",
      "text/plain": [
       "<Figure size 640x480 with 1 Axes>"
      ]
     },
     "metadata": {},
     "output_type": "display_data"
    }
   ],
   "source": [
    "plt.bar(att['index'], att['Attrition_Flag'], color=['Red','Green'])\n",
    "plt.title('Customer Status')\n",
    "plt.xlabel('Status')\n",
    "plt.ylabel('Count')\n",
    "plt.show()"
   ]
  },
  {
   "cell_type": "code",
   "execution_count": 13,
   "id": "261bf5ef",
   "metadata": {
    "id": "261bf5ef",
    "outputId": "b2e19611-6f71-41cd-9535-5bb24d4d99d5"
   },
   "outputs": [
    {
     "data": {
      "text/plain": [
       "([<matplotlib.patches.Wedge at 0x1c38547ca30>,\n",
       "  <matplotlib.patches.Wedge at 0x1c38547d060>],\n",
       " [Text(-0.9628371444551311, 0.5319254019667504, 'Existing Customer'),\n",
       "  Text(0.9628371693563555, -0.5319253568930898, 'Attrited Customer')],\n",
       " [Text(-0.525183896975526, 0.29014112834550015, '83.9%'),\n",
       "  Text(0.5251839105580121, -0.2901411037598671, '16.1%')])"
      ]
     },
     "execution_count": 13,
     "metadata": {},
     "output_type": "execute_result"
    },
    {
     "data": {
      "image/png": "[encoded data removed]",
      "text/plain": [
       "<Figure size 640x480 with 1 Axes>"
      ]
     },
     "metadata": {},
     "output_type": "display_data"
    }
   ],
   "source": [
    "#Pie Chart\n",
    "plt.pie(x=att['Attrition_Flag'], labels=att['index'], autopct='%1.1f%%')"
   ]
  },
  {
   "cell_type": "markdown",
   "id": "e56cfd93",
   "metadata": {
    "id": "e56cfd93"
   },
   "source": [
    "From visualizations above, we can conclude that we have lost 16,1% customers which made up of 1627 people. Now how much does this being affected by income and which cardholder left."
   ]
  },
  {
   "cell_type": "markdown",
   "id": "0314c442",
   "metadata": {},
   "source": [
    "### ---------------------------------------------------DIVIDER------------------------------------------------"
   ]
  },
  {
   "cell_type": "markdown",
   "id": "f0e83a01",
   "metadata": {},
   "source": [
    "Below, I added income classification and its index to make visualization easier and more practical."
   ]
  },
  {
   "cell_type": "code",
   "execution_count": 14,
   "id": "91732f6d",
   "metadata": {
    "collapsed": true,
    "id": "91732f6d",
    "outputId": "24110f0e-2c37-4b0d-b8ac-dfb3283160f8"
   },
   "outputs": [
    {
     "name": "stderr",
     "output_type": "stream",
     "text": [
      "C:\\Users\\user\\AppData\\Local\\Temp\\ipykernel_9924\\3595698484.py:1: SettingWithCopyWarning: \n",
      "A value is trying to be set on a copy of a slice from a DataFrame.\n",
      "Try using .loc[row_indexer,col_indexer] = value instead\n",
      "\n",
      "See the caveats in the documentation: https://pandas.pydata.org/pandas-docs/stable/user_guide/indexing.html#returning-a-view-versus-a-copy\n",
      "  vis['income'] = np.where(vis['Income_Category']=='$120K +', 'High','unknown')\n",
      "C:\\Users\\user\\AppData\\Local\\Temp\\ipykernel_9924\\3595698484.py:2: SettingWithCopyWarning: \n",
      "A value is trying to be set on a copy of a slice from a DataFrame.\n",
      "Try using .loc[row_indexer,col_indexer] = value instead\n",
      "\n",
      "See the caveats in the documentation: https://pandas.pydata.org/pandas-docs/stable/user_guide/indexing.html#returning-a-view-versus-a-copy\n",
      "  vis['income'] = np.where(vis['Income_Category']=='$80K - $120K', 'Mid Up',vis['income'])\n",
      "C:\\Users\\user\\AppData\\Local\\Temp\\ipykernel_9924\\3595698484.py:3: SettingWithCopyWarning: \n",
      "A value is trying to be set on a copy of a slice from a DataFrame.\n",
      "Try using .loc[row_indexer,col_indexer] = value instead\n",
      "\n",
      "See the caveats in the documentation: https://pandas.pydata.org/pandas-docs/stable/user_guide/indexing.html#returning-a-view-versus-a-copy\n",
      "  vis['income'] = np.where(vis['Income_Category']=='$60K - $80K', 'Mid',vis['income'])\n",
      "C:\\Users\\user\\AppData\\Local\\Temp\\ipykernel_9924\\3595698484.py:4: SettingWithCopyWarning: \n",
      "A value is trying to be set on a copy of a slice from a DataFrame.\n",
      "Try using .loc[row_indexer,col_indexer] = value instead\n",
      "\n",
      "See the caveats in the documentation: https://pandas.pydata.org/pandas-docs/stable/user_guide/indexing.html#returning-a-view-versus-a-copy\n",
      "  vis['income'] = np.where(vis['Income_Category']=='$40K - $60K', 'Mid Low',vis['income'])\n",
      "C:\\Users\\user\\AppData\\Local\\Temp\\ipykernel_9924\\3595698484.py:5: SettingWithCopyWarning: \n",
      "A value is trying to be set on a copy of a slice from a DataFrame.\n",
      "Try using .loc[row_indexer,col_indexer] = value instead\n",
      "\n",
      "See the caveats in the documentation: https://pandas.pydata.org/pandas-docs/stable/user_guide/indexing.html#returning-a-view-versus-a-copy\n",
      "  vis['income'] = np.where(vis['Income_Category']=='Less than $40K', 'Low',vis['income'])\n"
     ]
    }
   ],
   "source": [
    "vis['income'] = np.where(vis['Income_Category']=='$120K +', 'High','unknown')\n",
    "vis['income'] = np.where(vis['Income_Category']=='$80K - $120K', 'Mid Up',vis['income'])\n",
    "vis['income'] = np.where(vis['Income_Category']=='$60K - $80K', 'Mid',vis['income'])\n",
    "vis['income'] = np.where(vis['Income_Category']=='$40K - $60K', 'Mid Low',vis['income'])\n",
    "vis['income'] = np.where(vis['Income_Category']=='Less than $40K', 'Low',vis['income'])"
   ]
  },
  {
   "cell_type": "code",
   "execution_count": 15,
   "id": "d1898ff1",
   "metadata": {
    "collapsed": true,
    "id": "d1898ff1",
    "outputId": "a2f41f86-09bc-4ad8-8ef5-a0d1540184b5"
   },
   "outputs": [
    {
     "name": "stderr",
     "output_type": "stream",
     "text": [
      "C:\\Users\\user\\AppData\\Local\\Temp\\ipykernel_9924\\3139627142.py:1: SettingWithCopyWarning: \n",
      "A value is trying to be set on a copy of a slice from a DataFrame.\n",
      "Try using .loc[row_indexer,col_indexer] = value instead\n",
      "\n",
      "See the caveats in the documentation: https://pandas.pydata.org/pandas-docs/stable/user_guide/indexing.html#returning-a-view-versus-a-copy\n",
      "  vis['income_index'] = np.where(vis['Income_Category']=='$120K +', 5,0)\n",
      "C:\\Users\\user\\AppData\\Local\\Temp\\ipykernel_9924\\3139627142.py:2: SettingWithCopyWarning: \n",
      "A value is trying to be set on a copy of a slice from a DataFrame.\n",
      "Try using .loc[row_indexer,col_indexer] = value instead\n",
      "\n",
      "See the caveats in the documentation: https://pandas.pydata.org/pandas-docs/stable/user_guide/indexing.html#returning-a-view-versus-a-copy\n",
      "  vis['income_index'] = np.where(vis['Income_Category']=='$80K - $120K', 4,vis['income_index'])\n",
      "C:\\Users\\user\\AppData\\Local\\Temp\\ipykernel_9924\\3139627142.py:3: SettingWithCopyWarning: \n",
      "A value is trying to be set on a copy of a slice from a DataFrame.\n",
      "Try using .loc[row_indexer,col_indexer] = value instead\n",
      "\n",
      "See the caveats in the documentation: https://pandas.pydata.org/pandas-docs/stable/user_guide/indexing.html#returning-a-view-versus-a-copy\n",
      "  vis['income_index'] = np.where(vis['Income_Category']=='$60K - $80K', 3,vis['income_index'])\n",
      "C:\\Users\\user\\AppData\\Local\\Temp\\ipykernel_9924\\3139627142.py:4: SettingWithCopyWarning: \n",
      "A value is trying to be set on a copy of a slice from a DataFrame.\n",
      "Try using .loc[row_indexer,col_indexer] = value instead\n",
      "\n",
      "See the caveats in the documentation: https://pandas.pydata.org/pandas-docs/stable/user_guide/indexing.html#returning-a-view-versus-a-copy\n",
      "  vis['income_index'] = np.where(vis['Income_Category']=='$40K - $60K', 2,vis['income_index'])\n",
      "C:\\Users\\user\\AppData\\Local\\Temp\\ipykernel_9924\\3139627142.py:5: SettingWithCopyWarning: \n",
      "A value is trying to be set on a copy of a slice from a DataFrame.\n",
      "Try using .loc[row_indexer,col_indexer] = value instead\n",
      "\n",
      "See the caveats in the documentation: https://pandas.pydata.org/pandas-docs/stable/user_guide/indexing.html#returning-a-view-versus-a-copy\n",
      "  vis['income_index'] = np.where(vis['Income_Category']=='Less than $40K', 1,vis['income_index'])\n"
     ]
    }
   ],
   "source": [
    "vis['income_index'] = np.where(vis['Income_Category']=='$120K +', 5,0)\n",
    "vis['income_index'] = np.where(vis['Income_Category']=='$80K - $120K', 4,vis['income_index'])\n",
    "vis['income_index'] = np.where(vis['Income_Category']=='$60K - $80K', 3,vis['income_index'])\n",
    "vis['income_index'] = np.where(vis['Income_Category']=='$40K - $60K', 2,vis['income_index'])\n",
    "vis['income_index'] = np.where(vis['Income_Category']=='Less than $40K', 1,vis['income_index'])"
   ]
  },
  {
   "cell_type": "code",
   "execution_count": 16,
   "id": "87b38bf3",
   "metadata": {},
   "outputs": [
    {
     "data": {
      "text/html": [
       "<div>\n",
       "<style scoped>\n",
       "    .dataframe tbody tr th:only-of-type {\n",
       "        vertical-align: middle;\n",
       "    }\n",
       "\n",
       "    .dataframe tbody tr th {\n",
       "        vertical-align: top;\n",
       "    }\n",
       "\n",
       "    .dataframe thead th {\n",
       "        text-align: right;\n",
       "    }\n",
       "</style>\n",
       "<table border=\"1\" class=\"dataframe\">\n",
       "  <thead>\n",
       "    <tr style=\"text-align: right;\">\n",
       "      <th></th>\n",
       "      <th>CLIENTNUM</th>\n",
       "      <th>Card_Category</th>\n",
       "      <th>Attrition_Flag</th>\n",
       "      <th>Customer_Age</th>\n",
       "      <th>Gender</th>\n",
       "      <th>Education_Level</th>\n",
       "      <th>Income_Category</th>\n",
       "      <th>income</th>\n",
       "      <th>income_index</th>\n",
       "    </tr>\n",
       "  </thead>\n",
       "  <tbody>\n",
       "    <tr>\n",
       "      <th>0</th>\n",
       "      <td>768805383</td>\n",
       "      <td>Blue</td>\n",
       "      <td>Existing Customer</td>\n",
       "      <td>45</td>\n",
       "      <td>M</td>\n",
       "      <td>High School</td>\n",
       "      <td>$60K - $80K</td>\n",
       "      <td>Mid</td>\n",
       "      <td>3</td>\n",
       "    </tr>\n",
       "    <tr>\n",
       "      <th>1</th>\n",
       "      <td>818770008</td>\n",
       "      <td>Blue</td>\n",
       "      <td>Existing Customer</td>\n",
       "      <td>49</td>\n",
       "      <td>F</td>\n",
       "      <td>Graduate</td>\n",
       "      <td>Less than $40K</td>\n",
       "      <td>Low</td>\n",
       "      <td>1</td>\n",
       "    </tr>\n",
       "    <tr>\n",
       "      <th>2</th>\n",
       "      <td>713982108</td>\n",
       "      <td>Blue</td>\n",
       "      <td>Existing Customer</td>\n",
       "      <td>51</td>\n",
       "      <td>M</td>\n",
       "      <td>Graduate</td>\n",
       "      <td>$80K - $120K</td>\n",
       "      <td>Mid Up</td>\n",
       "      <td>4</td>\n",
       "    </tr>\n",
       "    <tr>\n",
       "      <th>3</th>\n",
       "      <td>769911858</td>\n",
       "      <td>Blue</td>\n",
       "      <td>Existing Customer</td>\n",
       "      <td>40</td>\n",
       "      <td>F</td>\n",
       "      <td>High School</td>\n",
       "      <td>Less than $40K</td>\n",
       "      <td>Low</td>\n",
       "      <td>1</td>\n",
       "    </tr>\n",
       "    <tr>\n",
       "      <th>4</th>\n",
       "      <td>709106358</td>\n",
       "      <td>Blue</td>\n",
       "      <td>Existing Customer</td>\n",
       "      <td>40</td>\n",
       "      <td>M</td>\n",
       "      <td>Uneducated</td>\n",
       "      <td>$60K - $80K</td>\n",
       "      <td>Mid</td>\n",
       "      <td>3</td>\n",
       "    </tr>\n",
       "  </tbody>\n",
       "</table>\n",
       "</div>"
      ],
      "text/plain": [
       "   CLIENTNUM Card_Category     Attrition_Flag  Customer_Age Gender  \\\n",
       "0  768805383          Blue  Existing Customer            45      M   \n",
       "1  818770008          Blue  Existing Customer            49      F   \n",
       "2  713982108          Blue  Existing Customer            51      M   \n",
       "3  769911858          Blue  Existing Customer            40      F   \n",
       "4  709106358          Blue  Existing Customer            40      M   \n",
       "\n",
       "  Education_Level Income_Category  income  income_index  \n",
       "0     High School     $60K - $80K     Mid             3  \n",
       "1        Graduate  Less than $40K     Low             1  \n",
       "2        Graduate    $80K - $120K  Mid Up             4  \n",
       "3     High School  Less than $40K     Low             1  \n",
       "4      Uneducated     $60K - $80K     Mid             3  "
      ]
     },
     "execution_count": 16,
     "metadata": {},
     "output_type": "execute_result"
    }
   ],
   "source": [
    "vis.head()"
   ]
  },
  {
   "cell_type": "markdown",
   "id": "8f4a59ae",
   "metadata": {},
   "source": [
    "### ---------------------------------------------------DIVIDER------------------------------------------------"
   ]
  },
  {
   "cell_type": "markdown",
   "id": "5bf7731c",
   "metadata": {},
   "source": [
    "Bagian ini, saya mencari kelompok mana yang paling banyak meninggalkan service."
   ]
  },
  {
   "cell_type": "code",
   "execution_count": 17,
   "id": "15e52a56",
   "metadata": {},
   "outputs": [
    {
     "data": {
      "text/html": [
       "<div>\n",
       "<style scoped>\n",
       "    .dataframe tbody tr th:only-of-type {\n",
       "        vertical-align: middle;\n",
       "    }\n",
       "\n",
       "    .dataframe tbody tr th {\n",
       "        vertical-align: top;\n",
       "    }\n",
       "\n",
       "    .dataframe thead th {\n",
       "        text-align: right;\n",
       "    }\n",
       "</style>\n",
       "<table border=\"1\" class=\"dataframe\">\n",
       "  <thead>\n",
       "    <tr style=\"text-align: right;\">\n",
       "      <th></th>\n",
       "      <th>income</th>\n",
       "      <th>Attrition_Flag</th>\n",
       "    </tr>\n",
       "  </thead>\n",
       "  <tbody>\n",
       "    <tr>\n",
       "      <th>0</th>\n",
       "      <td>High</td>\n",
       "      <td>126</td>\n",
       "    </tr>\n",
       "    <tr>\n",
       "      <th>2</th>\n",
       "      <td>Mid</td>\n",
       "      <td>189</td>\n",
       "    </tr>\n",
       "    <tr>\n",
       "      <th>3</th>\n",
       "      <td>Mid Up</td>\n",
       "      <td>242</td>\n",
       "    </tr>\n",
       "    <tr>\n",
       "      <th>4</th>\n",
       "      <td>Mid Low</td>\n",
       "      <td>271</td>\n",
       "    </tr>\n",
       "    <tr>\n",
       "      <th>5</th>\n",
       "      <td>Low</td>\n",
       "      <td>612</td>\n",
       "    </tr>\n",
       "  </tbody>\n",
       "</table>\n",
       "</div>"
      ],
      "text/plain": [
       "    income  Attrition_Flag\n",
       "0     High             126\n",
       "2      Mid             189\n",
       "3   Mid Up             242\n",
       "4  Mid Low             271\n",
       "5      Low             612"
      ]
     },
     "execution_count": 17,
     "metadata": {},
     "output_type": "execute_result"
    }
   ],
   "source": [
    "attrited = vis.loc[vis['Attrition_Flag']=='Attrited Customer']\n",
    "attrited = attrited.groupby('income')[['Attrition_Flag']].count().sort_values('Attrition_Flag',ascending=True).reset_index()\n",
    "attrited = attrited.drop(1)\n",
    "attrited"
   ]
  },
  {
   "cell_type": "code",
   "execution_count": 59,
   "id": "f0f7bce8",
   "metadata": {},
   "outputs": [
    {
     "data": {
      "image/png": "[encoded data removed]",
      "text/plain": [
       "<Figure size 500x500 with 1 Axes>"
      ]
     },
     "metadata": {},
     "output_type": "display_data"
    }
   ],
   "source": [
    "plt.bar(attrited['income'],attrited['Attrition_Flag'],color = ['Grey','Grey','Grey','Grey','Red'])\n",
    "plt.title('Attrited Customer by Income')\n",
    "plt.xlabel('income')\n",
    "plt.ylabel('Attrited Customers')\n",
    "plt.show()"
   ]
  },
  {
   "cell_type": "markdown",
   "id": "5391b5e3",
   "metadata": {},
   "source": [
    "Melalui diagram batang di atas, customer yang memilih untuk meninggalkan service kebanyakan berasal dari kalangan dengan low income (Less Than $40K). Pertanyaan permasalahan yang muncul adalah bisa jadi service yang ada kurang inclusive atau tidak memberikan benefit bagi mereka yang memiliki pendapatan rendah. "
   ]
  },
  {
   "cell_type": "markdown",
   "id": "3cc31933",
   "metadata": {},
   "source": [
    "### ---------------------------------------------------DIVIDER------------------------------------------------"
   ]
  },
  {
   "cell_type": "markdown",
   "id": "4f2ef8ca",
   "metadata": {
    "id": "4f2ef8ca"
   },
   "source": [
    "# Customer by Gender"
   ]
  },
  {
   "cell_type": "markdown",
   "id": "49c6aaf7",
   "metadata": {},
   "source": [
    "Disini kita melihat distribusi gender diantara customer."
   ]
  },
  {
   "cell_type": "code",
   "execution_count": 18,
   "id": "617a6a37",
   "metadata": {
    "id": "617a6a37",
    "outputId": "b8eb2c91-66e4-40c1-ab1b-f62f9a24f074"
   },
   "outputs": [
    {
     "data": {
      "text/html": [
       "<div>\n",
       "<style scoped>\n",
       "    .dataframe tbody tr th:only-of-type {\n",
       "        vertical-align: middle;\n",
       "    }\n",
       "\n",
       "    .dataframe tbody tr th {\n",
       "        vertical-align: top;\n",
       "    }\n",
       "\n",
       "    .dataframe thead th {\n",
       "        text-align: right;\n",
       "    }\n",
       "</style>\n",
       "<table border=\"1\" class=\"dataframe\">\n",
       "  <thead>\n",
       "    <tr style=\"text-align: right;\">\n",
       "      <th></th>\n",
       "      <th>Gender</th>\n",
       "      <th>Customer_Age</th>\n",
       "    </tr>\n",
       "  </thead>\n",
       "  <tbody>\n",
       "    <tr>\n",
       "      <th>0</th>\n",
       "      <td>F</td>\n",
       "      <td>5358</td>\n",
       "    </tr>\n",
       "    <tr>\n",
       "      <th>1</th>\n",
       "      <td>M</td>\n",
       "      <td>4769</td>\n",
       "    </tr>\n",
       "  </tbody>\n",
       "</table>\n",
       "</div>"
      ],
      "text/plain": [
       "  Gender  Customer_Age\n",
       "0      F          5358\n",
       "1      M          4769"
      ]
     },
     "execution_count": 18,
     "metadata": {},
     "output_type": "execute_result"
    }
   ],
   "source": [
    "gen = vis.groupby('Gender').count()[['Customer_Age']].reset_index()\n",
    "gen"
   ]
  },
  {
   "cell_type": "markdown",
   "id": "0e129d42",
   "metadata": {},
   "source": [
    "Melalui dataframe diatas, terlihat jika kebanyakan customer merupakan perempuan."
   ]
  },
  {
   "cell_type": "code",
   "execution_count": 19,
   "id": "54aea083",
   "metadata": {
    "id": "54aea083",
    "outputId": "889d15bf-37c2-45bc-ae5b-9415938efca5"
   },
   "outputs": [
    {
     "data": {
      "image/png": "[encoded data removed]",
      "text/plain": [
       "<Figure size 640x480 with 1 Axes>"
      ]
     },
     "metadata": {},
     "output_type": "display_data"
    }
   ],
   "source": [
    "plt.bar(gen['Gender'], gen['Customer_Age'], color=['Red','Blue'])\n",
    "plt.title('Customer Count by Gender')\n",
    "plt.xlabel('Gender')\n",
    "plt.ylabel('Count')\n",
    "plt.show()"
   ]
  },
  {
   "cell_type": "code",
   "execution_count": 20,
   "id": "ccd44bbe",
   "metadata": {
    "id": "ccd44bbe",
    "outputId": "802c2ceb-24e0-449e-dcb1-3d6b7c1ff75a"
   },
   "outputs": [
    {
     "data": {
      "text/plain": [
       "([<matplotlib.patches.Wedge at 0x1c3851156c0>,\n",
       "  <matplotlib.patches.Wedge at 0x1c385115d50>],\n",
       " [Text(-0.10035590564411713, 1.0954125671190509, 'F'),\n",
       "  Text(0.10035590564411676, -1.095412567119051, 'M')],\n",
       " [Text(-0.054739584896791156, 0.5974977638831186, '52.9%'),\n",
       "  Text(0.05473958489679095, -0.5974977638831187, '47.1%')])"
      ]
     },
     "execution_count": 20,
     "metadata": {},
     "output_type": "execute_result"
    },
    {
     "data": {
      "image/png": "[encoded data removed]",
      "text/plain": [
       "<Figure size 640x480 with 1 Axes>"
      ]
     },
     "metadata": {},
     "output_type": "display_data"
    }
   ],
   "source": [
    "plt.pie(x=gen['Customer_Age'], labels=gen['Gender'], autopct='%1.1f%%')"
   ]
  },
  {
   "cell_type": "markdown",
   "id": "4da4f999",
   "metadata": {},
   "source": [
    "Dua visualisasi di atas juga mendukung bahwa kebanyakan customer merupakan perempuan dengan komposisi 57.9%."
   ]
  },
  {
   "cell_type": "markdown",
   "id": "2f8723e6",
   "metadata": {},
   "source": [
    "### ---------------------------------------------------DIVIDER------------------------------------------------"
   ]
  },
  {
   "cell_type": "markdown",
   "id": "a2d634f4",
   "metadata": {
    "id": "a2d634f4"
   },
   "source": [
    "# Customer Age Distribution"
   ]
  },
  {
   "cell_type": "markdown",
   "id": "3a7b6bf8",
   "metadata": {},
   "source": [
    "Lalu, bagaimana dengan umur para customer? Apakah kebanyakan anak muda? atau jangan-jangan kebanyakan pengguna service kita adalah orang tua? Data ini dapat digunakan untuk membuat perencanaan pengiklanan ataupun untuk ekspansi demografi customer."
   ]
  },
  {
   "cell_type": "code",
   "execution_count": 23,
   "id": "c63fcb4b",
   "metadata": {
    "collapsed": true,
    "id": "c63fcb4b",
    "outputId": "84ba352e-e509-4919-97fe-118ad837c7ba"
   },
   "outputs": [
    {
     "name": "stderr",
     "output_type": "stream",
     "text": [
      "C:\\Users\\user\\AppData\\Local\\Temp\\ipykernel_9924\\3904395091.py:1: SettingWithCopyWarning: \n",
      "A value is trying to be set on a copy of a slice from a DataFrame.\n",
      "Try using .loc[row_indexer,col_indexer] = value instead\n",
      "\n",
      "See the caveats in the documentation: https://pandas.pydata.org/pandas-docs/stable/user_guide/indexing.html#returning-a-view-versus-a-copy\n",
      "  vis['age_cat'] = np.where(vis['Customer_Age'] <70, 'oldies','elderly')\n",
      "C:\\Users\\user\\AppData\\Local\\Temp\\ipykernel_9924\\3904395091.py:2: SettingWithCopyWarning: \n",
      "A value is trying to be set on a copy of a slice from a DataFrame.\n",
      "Try using .loc[row_indexer,col_indexer] = value instead\n",
      "\n",
      "See the caveats in the documentation: https://pandas.pydata.org/pandas-docs/stable/user_guide/indexing.html#returning-a-view-versus-a-copy\n",
      "  vis['age_cat'] = np.where(vis['Customer_Age'] <50, 'adult',vis['age_cat'])\n",
      "C:\\Users\\user\\AppData\\Local\\Temp\\ipykernel_9924\\3904395091.py:3: SettingWithCopyWarning: \n",
      "A value is trying to be set on a copy of a slice from a DataFrame.\n",
      "Try using .loc[row_indexer,col_indexer] = value instead\n",
      "\n",
      "See the caveats in the documentation: https://pandas.pydata.org/pandas-docs/stable/user_guide/indexing.html#returning-a-view-versus-a-copy\n",
      "  vis['age_cat'] = np.where(vis['Customer_Age'] <30, 'young adul',vis['age_cat'])\n",
      "C:\\Users\\user\\AppData\\Local\\Temp\\ipykernel_9924\\3904395091.py:4: SettingWithCopyWarning: \n",
      "A value is trying to be set on a copy of a slice from a DataFrame.\n",
      "Try using .loc[row_indexer,col_indexer] = value instead\n",
      "\n",
      "See the caveats in the documentation: https://pandas.pydata.org/pandas-docs/stable/user_guide/indexing.html#returning-a-view-versus-a-copy\n",
      "  vis['age_cat'] = np.where(vis['Customer_Age'] <20, 'kids',vis['age_cat'])\n"
     ]
    }
   ],
   "source": [
    "#Pemberian kategori untuk masing-masing umur\n",
    "vis['age_cat'] = np.where(vis['Customer_Age'] <70, 'oldies','elderly')\n",
    "vis['age_cat'] = np.where(vis['Customer_Age'] <50, 'adult',vis['age_cat'])\n",
    "vis['age_cat'] = np.where(vis['Customer_Age'] <30, 'young adul',vis['age_cat'])\n",
    "vis['age_cat'] = np.where(vis['Customer_Age'] <20, 'kids',vis['age_cat'])"
   ]
  },
  {
   "cell_type": "code",
   "execution_count": 65,
   "id": "1fb0348b",
   "metadata": {
    "id": "1fb0348b",
    "outputId": "5122ed81-a22d-459a-c2fe-1e14d031d4e0"
   },
   "outputs": [
    {
     "data": {
      "text/html": [
       "<div>\n",
       "<style scoped>\n",
       "    .dataframe tbody tr th:only-of-type {\n",
       "        vertical-align: middle;\n",
       "    }\n",
       "\n",
       "    .dataframe tbody tr th {\n",
       "        vertical-align: top;\n",
       "    }\n",
       "\n",
       "    .dataframe thead th {\n",
       "        text-align: right;\n",
       "    }\n",
       "</style>\n",
       "<table border=\"1\" class=\"dataframe\">\n",
       "  <thead>\n",
       "    <tr style=\"text-align: right;\">\n",
       "      <th></th>\n",
       "      <th>Customer_Age</th>\n",
       "    </tr>\n",
       "    <tr>\n",
       "      <th>age_cat</th>\n",
       "      <th></th>\n",
       "    </tr>\n",
       "  </thead>\n",
       "  <tbody>\n",
       "    <tr>\n",
       "      <th>adult</th>\n",
       "      <td>6402</td>\n",
       "    </tr>\n",
       "    <tr>\n",
       "      <th>elderly</th>\n",
       "      <td>2</td>\n",
       "    </tr>\n",
       "    <tr>\n",
       "      <th>oldies</th>\n",
       "      <td>3528</td>\n",
       "    </tr>\n",
       "    <tr>\n",
       "      <th>young adul</th>\n",
       "      <td>195</td>\n",
       "    </tr>\n",
       "  </tbody>\n",
       "</table>\n",
       "</div>"
      ],
      "text/plain": [
       "            Customer_Age\n",
       "age_cat                 \n",
       "adult               6402\n",
       "elderly                2\n",
       "oldies              3528\n",
       "young adul           195"
      ]
     },
     "execution_count": 65,
     "metadata": {},
     "output_type": "execute_result"
    }
   ],
   "source": [
    "vis.groupby('age_cat')[['Customer_Age']].count()"
   ]
  },
  {
   "cell_type": "markdown",
   "id": "f2cba291",
   "metadata": {},
   "source": [
    "Melalui dataframe diatas, dapat terlihat bahwa kebanyakan customer merupakan adult yang berusia antara 30-49 tahun."
   ]
  },
  {
   "cell_type": "code",
   "execution_count": 25,
   "id": "e4a3c305",
   "metadata": {
    "id": "e4a3c305",
    "outputId": "6e16f5dc-408f-4c51-b0de-433ab8f2154e"
   },
   "outputs": [
    {
     "data": {
      "image/png": "[encoded data removed]",
      "text/plain": [
       "<Figure size 640x480 with 1 Axes>"
      ]
     },
     "metadata": {},
     "output_type": "display_data"
    }
   ],
   "source": [
    "plt.hist(vis['Customer_Age'])\n",
    "plt.title('Age Distribution')\n",
    "plt.xlabel('Age')\n",
    "plt.ylabel('count')\n",
    "plt.show()"
   ]
  },
  {
   "cell_type": "markdown",
   "id": "4c650e11",
   "metadata": {},
   "source": [
    "Untuk persebaran umurnya,terlihat ada spike yang cukup tinggi pada range umur 40-50 tahun. Ini menandakan kebanyakan customer kita berada pada umur 40 keatas. Jika ingin melakukan expansion demografi dan ingin menggait customer dengan usia lebih muda, kita bisa melakukan pengiklanan dengan konsep modern dengan mengacu pada trend-trend di sosial media."
   ]
  },
  {
   "cell_type": "markdown",
   "id": "a18e8460",
   "metadata": {
    "id": "a18e8460"
   },
   "source": [
    "# Customer Age Count"
   ]
  },
  {
   "cell_type": "code",
   "execution_count": 26,
   "id": "01a1d930",
   "metadata": {
    "id": "01a1d930",
    "outputId": "5bbc71de-b412-4b49-cd59-14d56e328dee"
   },
   "outputs": [
    {
     "data": {
      "image/png": "[encoded data removed]",
      "text/plain": [
       "<Figure size 640x480 with 1 Axes>"
      ]
     },
     "metadata": {},
     "output_type": "display_data"
    }
   ],
   "source": [
    "age_count=vis.groupby('Customer_Age')[['CLIENTNUM']].count().reset_index()\n",
    "plt.bar(age_count['Customer_Age'],age_count['CLIENTNUM'])\n",
    "plt.show()"
   ]
  },
  {
   "cell_type": "markdown",
   "id": "dac97355",
   "metadata": {},
   "source": [
    "### ---------------------------------------------------DIVIDER------------------------------------------------"
   ]
  },
  {
   "cell_type": "markdown",
   "id": "51a71548",
   "metadata": {
    "id": "51a71548"
   },
   "source": [
    "# Customer Education Level"
   ]
  },
  {
   "cell_type": "markdown",
   "id": "80a03f5e",
   "metadata": {},
   "source": [
    "Di sini kita ingin mengetahui tingkat pendidikan dari para customers"
   ]
  },
  {
   "cell_type": "code",
   "execution_count": 75,
   "id": "3a80cc15",
   "metadata": {
    "id": "3a80cc15",
    "outputId": "f0762b6a-11b9-412f-ce0c-e76c686a8af6"
   },
   "outputs": [
    {
     "data": {
      "text/html": [
       "<div>\n",
       "<style scoped>\n",
       "    .dataframe tbody tr th:only-of-type {\n",
       "        vertical-align: middle;\n",
       "    }\n",
       "\n",
       "    .dataframe tbody tr th {\n",
       "        vertical-align: top;\n",
       "    }\n",
       "\n",
       "    .dataframe thead th {\n",
       "        text-align: right;\n",
       "    }\n",
       "</style>\n",
       "<table border=\"1\" class=\"dataframe\">\n",
       "  <thead>\n",
       "    <tr style=\"text-align: right;\">\n",
       "      <th></th>\n",
       "      <th>Education_Level</th>\n",
       "      <th>CLIENTNUM</th>\n",
       "    </tr>\n",
       "  </thead>\n",
       "  <tbody>\n",
       "    <tr>\n",
       "      <th>0</th>\n",
       "      <td>College</td>\n",
       "      <td>1013</td>\n",
       "    </tr>\n",
       "    <tr>\n",
       "      <th>1</th>\n",
       "      <td>Doctorate</td>\n",
       "      <td>451</td>\n",
       "    </tr>\n",
       "    <tr>\n",
       "      <th>2</th>\n",
       "      <td>Graduate</td>\n",
       "      <td>3128</td>\n",
       "    </tr>\n",
       "    <tr>\n",
       "      <th>3</th>\n",
       "      <td>High School</td>\n",
       "      <td>2013</td>\n",
       "    </tr>\n",
       "    <tr>\n",
       "      <th>4</th>\n",
       "      <td>Post-Graduate</td>\n",
       "      <td>516</td>\n",
       "    </tr>\n",
       "    <tr>\n",
       "      <th>5</th>\n",
       "      <td>Uneducated</td>\n",
       "      <td>1487</td>\n",
       "    </tr>\n",
       "  </tbody>\n",
       "</table>\n",
       "</div>"
      ],
      "text/plain": [
       "  Education_Level  CLIENTNUM\n",
       "0         College       1013\n",
       "1       Doctorate        451\n",
       "2        Graduate       3128\n",
       "3     High School       2013\n",
       "4   Post-Graduate        516\n",
       "5      Uneducated       1487"
      ]
     },
     "execution_count": 75,
     "metadata": {},
     "output_type": "execute_result"
    }
   ],
   "source": [
    "edu = vis.groupby('Education_Level')[['CLIENTNUM']].count().reset_index()\n",
    "edu = edu.drop(6)\n",
    "edu"
   ]
  },
  {
   "cell_type": "code",
   "execution_count": 133,
   "id": "6f8c55e1",
   "metadata": {},
   "outputs": [
    {
     "data": {
      "image/png": "[encoded data removed]",
      "text/plain": [
       "<Figure size 500x500 with 1 Axes>"
      ]
     },
     "metadata": {},
     "output_type": "display_data"
    }
   ],
   "source": [
    "plt.barh(edu['Education_Level'], edu['CLIENTNUM'], color=['Red','Blue'])\n",
    "plt.title('Cust Education Level')\n",
    "plt.xlabel('Count')\n",
    "plt.ylabel('Education')\n",
    "plt.rcParams[\"figure.figsize\"] = [10, 10]\n",
    "plt.rcParams[\"figure.autolayout\"] = True\n",
    "plt.show()"
   ]
  },
  {
   "cell_type": "markdown",
   "id": "1ed067f7",
   "metadata": {},
   "source": [
    "Melalui diagram di atas, dapat disimpulkan jika kebanyakan customer merupakan lulusan graduate (Presumably S1)"
   ]
  },
  {
   "cell_type": "markdown",
   "id": "1c759ef7",
   "metadata": {},
   "source": [
    "### ---------------------------------------------------DIVIDER------------------------------------------------"
   ]
  },
  {
   "cell_type": "markdown",
   "id": "f9b0aec2",
   "metadata": {},
   "source": [
    "Di bawah adalah visualisasi trivial mengenai tingkatan edukasi customer berdasarkan gender."
   ]
  },
  {
   "cell_type": "code",
   "execution_count": 28,
   "id": "6d138b04",
   "metadata": {
    "id": "6d138b04",
    "outputId": "c0182916-3d79-4946-88fb-27974e5beac5"
   },
   "outputs": [
    {
     "data": {
      "text/html": [
       "<div>\n",
       "<style scoped>\n",
       "    .dataframe tbody tr th:only-of-type {\n",
       "        vertical-align: middle;\n",
       "    }\n",
       "\n",
       "    .dataframe tbody tr th {\n",
       "        vertical-align: top;\n",
       "    }\n",
       "\n",
       "    .dataframe thead th {\n",
       "        text-align: right;\n",
       "    }\n",
       "</style>\n",
       "<table border=\"1\" class=\"dataframe\">\n",
       "  <thead>\n",
       "    <tr style=\"text-align: right;\">\n",
       "      <th></th>\n",
       "      <th>Education_Level</th>\n",
       "      <th>Gender</th>\n",
       "    </tr>\n",
       "  </thead>\n",
       "  <tbody>\n",
       "    <tr>\n",
       "      <th>0</th>\n",
       "      <td>College</td>\n",
       "      <td>481</td>\n",
       "    </tr>\n",
       "    <tr>\n",
       "      <th>1</th>\n",
       "      <td>Doctorate</td>\n",
       "      <td>194</td>\n",
       "    </tr>\n",
       "    <tr>\n",
       "      <th>2</th>\n",
       "      <td>Graduate</td>\n",
       "      <td>1458</td>\n",
       "    </tr>\n",
       "    <tr>\n",
       "      <th>3</th>\n",
       "      <td>High School</td>\n",
       "      <td>985</td>\n",
       "    </tr>\n",
       "    <tr>\n",
       "      <th>4</th>\n",
       "      <td>Post-Graduate</td>\n",
       "      <td>253</td>\n",
       "    </tr>\n",
       "    <tr>\n",
       "      <th>5</th>\n",
       "      <td>Uneducated</td>\n",
       "      <td>691</td>\n",
       "    </tr>\n",
       "    <tr>\n",
       "      <th>6</th>\n",
       "      <td>Unknown</td>\n",
       "      <td>707</td>\n",
       "    </tr>\n",
       "  </tbody>\n",
       "</table>\n",
       "</div>"
      ],
      "text/plain": [
       "  Education_Level  Gender\n",
       "0         College     481\n",
       "1       Doctorate     194\n",
       "2        Graduate    1458\n",
       "3     High School     985\n",
       "4   Post-Graduate     253\n",
       "5      Uneducated     691\n",
       "6         Unknown     707"
      ]
     },
     "execution_count": 28,
     "metadata": {},
     "output_type": "execute_result"
    }
   ],
   "source": [
    "edu_m = vis.loc[vis['Gender']=='M']\n",
    "edu_m = edu_m.groupby('Education_Level')[['Gender']].count().reset_index()\n",
    "edu_m"
   ]
  },
  {
   "cell_type": "code",
   "execution_count": 29,
   "id": "50815c67",
   "metadata": {
    "id": "50815c67",
    "outputId": "312a73ad-84a7-4092-887d-ce27747d7ea9"
   },
   "outputs": [
    {
     "data": {
      "text/html": [
       "<div>\n",
       "<style scoped>\n",
       "    .dataframe tbody tr th:only-of-type {\n",
       "        vertical-align: middle;\n",
       "    }\n",
       "\n",
       "    .dataframe tbody tr th {\n",
       "        vertical-align: top;\n",
       "    }\n",
       "\n",
       "    .dataframe thead th {\n",
       "        text-align: right;\n",
       "    }\n",
       "</style>\n",
       "<table border=\"1\" class=\"dataframe\">\n",
       "  <thead>\n",
       "    <tr style=\"text-align: right;\">\n",
       "      <th></th>\n",
       "      <th>Education_Level</th>\n",
       "      <th>Gender</th>\n",
       "    </tr>\n",
       "  </thead>\n",
       "  <tbody>\n",
       "    <tr>\n",
       "      <th>0</th>\n",
       "      <td>College</td>\n",
       "      <td>532</td>\n",
       "    </tr>\n",
       "    <tr>\n",
       "      <th>1</th>\n",
       "      <td>Doctorate</td>\n",
       "      <td>257</td>\n",
       "    </tr>\n",
       "    <tr>\n",
       "      <th>2</th>\n",
       "      <td>Graduate</td>\n",
       "      <td>1670</td>\n",
       "    </tr>\n",
       "    <tr>\n",
       "      <th>3</th>\n",
       "      <td>High School</td>\n",
       "      <td>1028</td>\n",
       "    </tr>\n",
       "    <tr>\n",
       "      <th>4</th>\n",
       "      <td>Post-Graduate</td>\n",
       "      <td>263</td>\n",
       "    </tr>\n",
       "    <tr>\n",
       "      <th>5</th>\n",
       "      <td>Uneducated</td>\n",
       "      <td>796</td>\n",
       "    </tr>\n",
       "    <tr>\n",
       "      <th>6</th>\n",
       "      <td>Unknown</td>\n",
       "      <td>812</td>\n",
       "    </tr>\n",
       "  </tbody>\n",
       "</table>\n",
       "</div>"
      ],
      "text/plain": [
       "  Education_Level  Gender\n",
       "0         College     532\n",
       "1       Doctorate     257\n",
       "2        Graduate    1670\n",
       "3     High School    1028\n",
       "4   Post-Graduate     263\n",
       "5      Uneducated     796\n",
       "6         Unknown     812"
      ]
     },
     "execution_count": 29,
     "metadata": {},
     "output_type": "execute_result"
    }
   ],
   "source": [
    "edu_f = vis.loc[vis['Gender']=='F']\n",
    "edu_f = edu_f.groupby('Education_Level')[['Gender']].count().reset_index()\n",
    "edu_f"
   ]
  },
  {
   "cell_type": "code",
   "execution_count": 67,
   "id": "909ddfa1",
   "metadata": {
    "id": "909ddfa1",
    "outputId": "7f778068-f3be-418a-f477-3a450caf7dce"
   },
   "outputs": [
    {
     "data": {
      "image/png": "[encoded data removed]",
      "text/plain": [
       "<Figure size 1000x1000 with 1 Axes>"
      ]
     },
     "metadata": {},
     "output_type": "display_data"
    }
   ],
   "source": [
    "# Male Customer Education Level\n",
    "plt.bar(edu_m['Education_Level'], edu_m['Gender'], color=['Red','Blue'])\n",
    "plt.title('Male Cust Education Level')\n",
    "plt.xlabel('Education')\n",
    "plt.ylabel('Count')\n",
    "plt.rcParams[\"figure.figsize\"] = [10, 10]\n",
    "plt.rcParams[\"figure.autolayout\"] = True\n",
    "plt.show()"
   ]
  },
  {
   "cell_type": "code",
   "execution_count": 31,
   "id": "a6a919a2",
   "metadata": {
    "id": "a6a919a2",
    "outputId": "7aa49b31-696a-439c-b223-c35aa80a7148",
    "scrolled": false
   },
   "outputs": [
    {
     "data": {
      "image/png": "[encoded data removed]",
      "text/plain": [
       "<Figure size 1000x1000 with 1 Axes>"
      ]
     },
     "metadata": {},
     "output_type": "display_data"
    }
   ],
   "source": [
    "#Female Customer Education Level\n",
    "plt.bar(edu_f['Education_Level'], edu_f['Gender'], color=['Red','Blue'])\n",
    "plt.title('Female Cust Education Level')\n",
    "plt.xlabel('Education')\n",
    "plt.ylabel('Count')\n",
    "plt.rcParams[\"figure.figsize\"] = [10, 10]\n",
    "plt.rcParams[\"figure.autolayout\"] = True\n",
    "plt.show()"
   ]
  },
  {
   "cell_type": "markdown",
   "id": "7d8fb15e",
   "metadata": {},
   "source": [
    "### ---------------------------------------------------DIVIDER------------------------------------------------"
   ]
  },
  {
   "cell_type": "markdown",
   "id": "2f1ed15f",
   "metadata": {
    "id": "2f1ed15f"
   },
   "source": [
    "## Income Distribution among Customers"
   ]
  },
  {
   "cell_type": "code",
   "execution_count": 84,
   "id": "b42fe109",
   "metadata": {
    "id": "b42fe109",
    "outputId": "c34991c0-0a47-4182-b79f-19c0f4cd4720"
   },
   "outputs": [
    {
     "data": {
      "image/png": "[encoded data removed]",
      "text/plain": [
       "<Figure size 500x500 with 1 Axes>"
      ]
     },
     "metadata": {},
     "output_type": "display_data"
    }
   ],
   "source": [
    "plt.hist(vis['income_index'], bins=5)\n",
    "plt.title('Histogram of Income Distribution')\n",
    "plt.xlabel('Income')\n",
    "plt.ylabel('Count')\n",
    "plt.rcParams[\"figure.figsize\"] = [5, 5]\n",
    "plt.rcParams[\"figure.autolayout\"] = True\n",
    "plt.show()"
   ]
  },
  {
   "cell_type": "code",
   "execution_count": 36,
   "id": "2ddd4d12",
   "metadata": {
    "id": "2ddd4d12",
    "outputId": "ed17f465-dd37-4db7-970d-605ea368aaa6",
    "scrolled": true
   },
   "outputs": [
    {
     "data": {
      "text/html": [
       "<div>\n",
       "<style scoped>\n",
       "    .dataframe tbody tr th:only-of-type {\n",
       "        vertical-align: middle;\n",
       "    }\n",
       "\n",
       "    .dataframe tbody tr th {\n",
       "        vertical-align: top;\n",
       "    }\n",
       "\n",
       "    .dataframe thead th {\n",
       "        text-align: right;\n",
       "    }\n",
       "</style>\n",
       "<table border=\"1\" class=\"dataframe\">\n",
       "  <thead>\n",
       "    <tr style=\"text-align: right;\">\n",
       "      <th></th>\n",
       "      <th></th>\n",
       "      <th>0</th>\n",
       "    </tr>\n",
       "    <tr>\n",
       "      <th>income</th>\n",
       "      <th>Gender</th>\n",
       "      <th></th>\n",
       "    </tr>\n",
       "  </thead>\n",
       "  <tbody>\n",
       "    <tr>\n",
       "      <th>High</th>\n",
       "      <th>M</th>\n",
       "      <td>727</td>\n",
       "    </tr>\n",
       "    <tr>\n",
       "      <th rowspan=\"2\" valign=\"top\">Low</th>\n",
       "      <th>F</th>\n",
       "      <td>3284</td>\n",
       "    </tr>\n",
       "    <tr>\n",
       "      <th>M</th>\n",
       "      <td>277</td>\n",
       "    </tr>\n",
       "    <tr>\n",
       "      <th>Mid</th>\n",
       "      <th>M</th>\n",
       "      <td>1402</td>\n",
       "    </tr>\n",
       "    <tr>\n",
       "      <th rowspan=\"2\" valign=\"top\">Mid Low</th>\n",
       "      <th>F</th>\n",
       "      <td>1014</td>\n",
       "    </tr>\n",
       "    <tr>\n",
       "      <th>M</th>\n",
       "      <td>776</td>\n",
       "    </tr>\n",
       "    <tr>\n",
       "      <th>Mid Up</th>\n",
       "      <th>M</th>\n",
       "      <td>1535</td>\n",
       "    </tr>\n",
       "    <tr>\n",
       "      <th rowspan=\"2\" valign=\"top\">unknown</th>\n",
       "      <th>F</th>\n",
       "      <td>1060</td>\n",
       "    </tr>\n",
       "    <tr>\n",
       "      <th>M</th>\n",
       "      <td>52</td>\n",
       "    </tr>\n",
       "  </tbody>\n",
       "</table>\n",
       "</div>"
      ],
      "text/plain": [
       "                   0\n",
       "income  Gender      \n",
       "High    M        727\n",
       "Low     F       3284\n",
       "        M        277\n",
       "Mid     M       1402\n",
       "Mid Low F       1014\n",
       "        M        776\n",
       "Mid Up  M       1535\n",
       "unknown F       1060\n",
       "        M         52"
      ]
     },
     "execution_count": 36,
     "metadata": {},
     "output_type": "execute_result"
    }
   ],
   "source": [
    "#Income Dataframe\n",
    "income = vis.groupby(['income', 'Gender']).size()\n",
    "income = pd.DataFrame(income)\n",
    "income"
   ]
  },
  {
   "cell_type": "code",
   "execution_count": 37,
   "id": "abd2205e",
   "metadata": {
    "id": "abd2205e",
    "outputId": "fc709ba6-9672-4786-d149-63f790f857ad"
   },
   "outputs": [
    {
     "name": "stdout",
     "output_type": "stream",
     "text": [
      "<class 'pandas.core.frame.DataFrame'>\n",
      "RangeIndex: 10127 entries, 0 to 10126\n",
      "Data columns (total 10 columns):\n",
      " #   Column           Non-Null Count  Dtype \n",
      "---  ------           --------------  ----- \n",
      " 0   CLIENTNUM        10127 non-null  int64 \n",
      " 1   Card_Category    10127 non-null  object\n",
      " 2   Attrition_Flag   10127 non-null  object\n",
      " 3   Customer_Age     10127 non-null  int64 \n",
      " 4   Gender           10127 non-null  object\n",
      " 5   Education_Level  10127 non-null  object\n",
      " 6   Income_Category  10127 non-null  object\n",
      " 7   income           10127 non-null  object\n",
      " 8   income_index     10127 non-null  int32 \n",
      " 9   age_cat          10127 non-null  object\n",
      "dtypes: int32(1), int64(2), object(7)\n",
      "memory usage: 751.7+ KB\n"
     ]
    }
   ],
   "source": [
    "vis.info()"
   ]
  },
  {
   "cell_type": "markdown",
   "id": "69536b69",
   "metadata": {},
   "source": [
    "### ---------------------------------------------------DIVIDER------------------------------------------------"
   ]
  },
  {
   "cell_type": "markdown",
   "id": "5632fa22",
   "metadata": {
    "id": "5632fa22"
   },
   "source": [
    "# CREDIT VISUALISATION 2"
   ]
  },
  {
   "cell_type": "markdown",
   "id": "c5ffd28a",
   "metadata": {},
   "source": [
    "Di bagian ini saya hanya menggabungkan datafram credit dan vis"
   ]
  },
  {
   "cell_type": "code",
   "execution_count": 38,
   "id": "c77d738c",
   "metadata": {
    "id": "c77d738c"
   },
   "outputs": [],
   "source": [
    "columns= vis.columns.difference(credit.columns)"
   ]
  },
  {
   "cell_type": "code",
   "execution_count": 39,
   "id": "0fce7221",
   "metadata": {
    "id": "0fce7221",
    "outputId": "26935d88-9b47-4c7b-997b-b7934a1656a8"
   },
   "outputs": [
    {
     "data": {
      "text/html": [
       "<div>\n",
       "<style scoped>\n",
       "    .dataframe tbody tr th:only-of-type {\n",
       "        vertical-align: middle;\n",
       "    }\n",
       "\n",
       "    .dataframe tbody tr th {\n",
       "        vertical-align: top;\n",
       "    }\n",
       "\n",
       "    .dataframe thead th {\n",
       "        text-align: right;\n",
       "    }\n",
       "</style>\n",
       "<table border=\"1\" class=\"dataframe\">\n",
       "  <thead>\n",
       "    <tr style=\"text-align: right;\">\n",
       "      <th></th>\n",
       "      <th>CLIENTNUM</th>\n",
       "      <th>Attrition_Flag</th>\n",
       "      <th>Customer_Age</th>\n",
       "      <th>Gender</th>\n",
       "      <th>Dependent_count</th>\n",
       "      <th>Education_Level</th>\n",
       "      <th>Marital_Status</th>\n",
       "      <th>Income_Category</th>\n",
       "      <th>Card_Category</th>\n",
       "      <th>Months_on_book</th>\n",
       "      <th>...</th>\n",
       "      <th>Total_Revolving_Bal</th>\n",
       "      <th>Avg_Open_To_Buy</th>\n",
       "      <th>Total_Amt_Chng_Q4_Q1</th>\n",
       "      <th>Total_Trans_Amt</th>\n",
       "      <th>Total_Trans_Ct</th>\n",
       "      <th>Total_Ct_Chng_Q4_Q1</th>\n",
       "      <th>Avg_Utilization_Ratio</th>\n",
       "      <th>age_cat</th>\n",
       "      <th>income</th>\n",
       "      <th>income_index</th>\n",
       "    </tr>\n",
       "  </thead>\n",
       "  <tbody>\n",
       "    <tr>\n",
       "      <th>0</th>\n",
       "      <td>768805383</td>\n",
       "      <td>Existing Customer</td>\n",
       "      <td>45</td>\n",
       "      <td>M</td>\n",
       "      <td>3</td>\n",
       "      <td>High School</td>\n",
       "      <td>Married</td>\n",
       "      <td>$60K - $80K</td>\n",
       "      <td>Blue</td>\n",
       "      <td>39</td>\n",
       "      <td>...</td>\n",
       "      <td>777</td>\n",
       "      <td>11914.0</td>\n",
       "      <td>1.335</td>\n",
       "      <td>1144</td>\n",
       "      <td>42</td>\n",
       "      <td>1.625</td>\n",
       "      <td>0.061</td>\n",
       "      <td>adult</td>\n",
       "      <td>Mid</td>\n",
       "      <td>3</td>\n",
       "    </tr>\n",
       "    <tr>\n",
       "      <th>1</th>\n",
       "      <td>818770008</td>\n",
       "      <td>Existing Customer</td>\n",
       "      <td>49</td>\n",
       "      <td>F</td>\n",
       "      <td>5</td>\n",
       "      <td>Graduate</td>\n",
       "      <td>Single</td>\n",
       "      <td>Less than $40K</td>\n",
       "      <td>Blue</td>\n",
       "      <td>44</td>\n",
       "      <td>...</td>\n",
       "      <td>864</td>\n",
       "      <td>7392.0</td>\n",
       "      <td>1.541</td>\n",
       "      <td>1291</td>\n",
       "      <td>33</td>\n",
       "      <td>3.714</td>\n",
       "      <td>0.105</td>\n",
       "      <td>adult</td>\n",
       "      <td>Low</td>\n",
       "      <td>1</td>\n",
       "    </tr>\n",
       "    <tr>\n",
       "      <th>2</th>\n",
       "      <td>713982108</td>\n",
       "      <td>Existing Customer</td>\n",
       "      <td>51</td>\n",
       "      <td>M</td>\n",
       "      <td>3</td>\n",
       "      <td>Graduate</td>\n",
       "      <td>Married</td>\n",
       "      <td>$80K - $120K</td>\n",
       "      <td>Blue</td>\n",
       "      <td>36</td>\n",
       "      <td>...</td>\n",
       "      <td>0</td>\n",
       "      <td>3418.0</td>\n",
       "      <td>2.594</td>\n",
       "      <td>1887</td>\n",
       "      <td>20</td>\n",
       "      <td>2.333</td>\n",
       "      <td>0.000</td>\n",
       "      <td>oldies</td>\n",
       "      <td>Mid Up</td>\n",
       "      <td>4</td>\n",
       "    </tr>\n",
       "    <tr>\n",
       "      <th>3</th>\n",
       "      <td>769911858</td>\n",
       "      <td>Existing Customer</td>\n",
       "      <td>40</td>\n",
       "      <td>F</td>\n",
       "      <td>4</td>\n",
       "      <td>High School</td>\n",
       "      <td>Unknown</td>\n",
       "      <td>Less than $40K</td>\n",
       "      <td>Blue</td>\n",
       "      <td>34</td>\n",
       "      <td>...</td>\n",
       "      <td>2517</td>\n",
       "      <td>796.0</td>\n",
       "      <td>1.405</td>\n",
       "      <td>1171</td>\n",
       "      <td>20</td>\n",
       "      <td>2.333</td>\n",
       "      <td>0.760</td>\n",
       "      <td>adult</td>\n",
       "      <td>Low</td>\n",
       "      <td>1</td>\n",
       "    </tr>\n",
       "    <tr>\n",
       "      <th>4</th>\n",
       "      <td>709106358</td>\n",
       "      <td>Existing Customer</td>\n",
       "      <td>40</td>\n",
       "      <td>M</td>\n",
       "      <td>3</td>\n",
       "      <td>Uneducated</td>\n",
       "      <td>Married</td>\n",
       "      <td>$60K - $80K</td>\n",
       "      <td>Blue</td>\n",
       "      <td>21</td>\n",
       "      <td>...</td>\n",
       "      <td>0</td>\n",
       "      <td>4716.0</td>\n",
       "      <td>2.175</td>\n",
       "      <td>816</td>\n",
       "      <td>28</td>\n",
       "      <td>2.500</td>\n",
       "      <td>0.000</td>\n",
       "      <td>adult</td>\n",
       "      <td>Mid</td>\n",
       "      <td>3</td>\n",
       "    </tr>\n",
       "  </tbody>\n",
       "</table>\n",
       "<p>5 rows × 24 columns</p>\n",
       "</div>"
      ],
      "text/plain": [
       "   CLIENTNUM     Attrition_Flag  Customer_Age Gender  Dependent_count  \\\n",
       "0  768805383  Existing Customer            45      M                3   \n",
       "1  818770008  Existing Customer            49      F                5   \n",
       "2  713982108  Existing Customer            51      M                3   \n",
       "3  769911858  Existing Customer            40      F                4   \n",
       "4  709106358  Existing Customer            40      M                3   \n",
       "\n",
       "  Education_Level Marital_Status Income_Category Card_Category  \\\n",
       "0     High School        Married     $60K - $80K          Blue   \n",
       "1        Graduate         Single  Less than $40K          Blue   \n",
       "2        Graduate        Married    $80K - $120K          Blue   \n",
       "3     High School        Unknown  Less than $40K          Blue   \n",
       "4      Uneducated        Married     $60K - $80K          Blue   \n",
       "\n",
       "   Months_on_book  ...  Total_Revolving_Bal  Avg_Open_To_Buy  \\\n",
       "0              39  ...                  777          11914.0   \n",
       "1              44  ...                  864           7392.0   \n",
       "2              36  ...                    0           3418.0   \n",
       "3              34  ...                 2517            796.0   \n",
       "4              21  ...                    0           4716.0   \n",
       "\n",
       "   Total_Amt_Chng_Q4_Q1  Total_Trans_Amt  Total_Trans_Ct  Total_Ct_Chng_Q4_Q1  \\\n",
       "0                 1.335             1144              42                1.625   \n",
       "1                 1.541             1291              33                3.714   \n",
       "2                 2.594             1887              20                2.333   \n",
       "3                 1.405             1171              20                2.333   \n",
       "4                 2.175              816              28                2.500   \n",
       "\n",
       "   Avg_Utilization_Ratio  age_cat  income  income_index  \n",
       "0                  0.061    adult     Mid             3  \n",
       "1                  0.105    adult     Low             1  \n",
       "2                  0.000   oldies  Mid Up             4  \n",
       "3                  0.760    adult     Low             1  \n",
       "4                  0.000    adult     Mid             3  \n",
       "\n",
       "[5 rows x 24 columns]"
      ]
     },
     "execution_count": 39,
     "metadata": {},
     "output_type": "execute_result"
    }
   ],
   "source": [
    "credit2 = pd.merge(credit, vis[columns], left_index=True, right_index=True, how='outer')\n",
    "credit2.head()"
   ]
  },
  {
   "cell_type": "code",
   "execution_count": 40,
   "id": "aed3298c",
   "metadata": {
    "id": "aed3298c",
    "outputId": "6454be1f-77ed-4c92-c3bc-f94fdc73a5b5"
   },
   "outputs": [
    {
     "name": "stdout",
     "output_type": "stream",
     "text": [
      "<class 'pandas.core.frame.DataFrame'>\n",
      "RangeIndex: 10127 entries, 0 to 10126\n",
      "Data columns (total 24 columns):\n",
      " #   Column                    Non-Null Count  Dtype  \n",
      "---  ------                    --------------  -----  \n",
      " 0   CLIENTNUM                 10127 non-null  int64  \n",
      " 1   Attrition_Flag            10127 non-null  object \n",
      " 2   Customer_Age              10127 non-null  int64  \n",
      " 3   Gender                    10127 non-null  object \n",
      " 4   Dependent_count           10127 non-null  int64  \n",
      " 5   Education_Level           10127 non-null  object \n",
      " 6   Marital_Status            10127 non-null  object \n",
      " 7   Income_Category           10127 non-null  object \n",
      " 8   Card_Category             10127 non-null  object \n",
      " 9   Months_on_book            10127 non-null  int64  \n",
      " 10  Total_Relationship_Count  10127 non-null  int64  \n",
      " 11  Months_Inactive_12_mon    10127 non-null  int64  \n",
      " 12  Contacts_Count_12_mon     10127 non-null  int64  \n",
      " 13  Credit_Limit              10127 non-null  float64\n",
      " 14  Total_Revolving_Bal       10127 non-null  int64  \n",
      " 15  Avg_Open_To_Buy           10127 non-null  float64\n",
      " 16  Total_Amt_Chng_Q4_Q1      10127 non-null  float64\n",
      " 17  Total_Trans_Amt           10127 non-null  int64  \n",
      " 18  Total_Trans_Ct            10127 non-null  int64  \n",
      " 19  Total_Ct_Chng_Q4_Q1       10127 non-null  float64\n",
      " 20  Avg_Utilization_Ratio     10127 non-null  float64\n",
      " 21  age_cat                   10127 non-null  object \n",
      " 22  income                    10127 non-null  object \n",
      " 23  income_index              10127 non-null  int32  \n",
      "dtypes: float64(5), int32(1), int64(10), object(8)\n",
      "memory usage: 1.8+ MB\n"
     ]
    }
   ],
   "source": [
    "credit2.info()"
   ]
  },
  {
   "cell_type": "markdown",
   "id": "0821ec27",
   "metadata": {},
   "source": [
    "### ---------------------------------------------------DIVIDER------------------------------------------------"
   ]
  },
  {
   "cell_type": "markdown",
   "id": "c488f23b",
   "metadata": {
    "id": "c488f23b"
   },
   "source": [
    "# Jumlah Customer per Kartu berdasarkan Income"
   ]
  },
  {
   "cell_type": "markdown",
   "id": "57a10099",
   "metadata": {},
   "source": [
    "Pada bagian ini saya ingin melihat apakah ada korelasi antara pendapatan customer dengan kartu kredit yang digunakan"
   ]
  },
  {
   "cell_type": "code",
   "execution_count": 93,
   "id": "cc1617fd",
   "metadata": {
    "id": "cc1617fd"
   },
   "outputs": [],
   "source": [
    "vis2 = credit2[['CLIENTNUM','Card_Category','income','Months_Inactive_12_mon', 'Contacts_Count_12_mon','Total_Trans_Amt','Total_Trans_Ct']]\n",
    "vis3 = credit2[['CLIENTNUM','Card_Category','Credit_Limit','Total_Trans_Amt','Total_Trans_Ct','income','income_index']]#credit score/limit"
   ]
  },
  {
   "cell_type": "code",
   "execution_count": 94,
   "id": "7d1387af",
   "metadata": {
    "id": "7d1387af",
    "outputId": "a20d957c-2209-46f2-b14f-f8e075eb88da",
    "scrolled": true
   },
   "outputs": [
    {
     "data": {
      "text/html": [
       "<div>\n",
       "<style scoped>\n",
       "    .dataframe tbody tr th:only-of-type {\n",
       "        vertical-align: middle;\n",
       "    }\n",
       "\n",
       "    .dataframe tbody tr th {\n",
       "        vertical-align: top;\n",
       "    }\n",
       "\n",
       "    .dataframe thead th {\n",
       "        text-align: right;\n",
       "    }\n",
       "</style>\n",
       "<table border=\"1\" class=\"dataframe\">\n",
       "  <thead>\n",
       "    <tr style=\"text-align: right;\">\n",
       "      <th></th>\n",
       "      <th>CLIENTNUM</th>\n",
       "      <th>Card_Category</th>\n",
       "      <th>income</th>\n",
       "      <th>Months_Inactive_12_mon</th>\n",
       "      <th>Contacts_Count_12_mon</th>\n",
       "      <th>Total_Trans_Amt</th>\n",
       "      <th>Total_Trans_Ct</th>\n",
       "    </tr>\n",
       "  </thead>\n",
       "  <tbody>\n",
       "    <tr>\n",
       "      <th>0</th>\n",
       "      <td>768805383</td>\n",
       "      <td>Blue</td>\n",
       "      <td>Mid</td>\n",
       "      <td>1</td>\n",
       "      <td>3</td>\n",
       "      <td>1144</td>\n",
       "      <td>42</td>\n",
       "    </tr>\n",
       "    <tr>\n",
       "      <th>1</th>\n",
       "      <td>818770008</td>\n",
       "      <td>Blue</td>\n",
       "      <td>Low</td>\n",
       "      <td>1</td>\n",
       "      <td>2</td>\n",
       "      <td>1291</td>\n",
       "      <td>33</td>\n",
       "    </tr>\n",
       "    <tr>\n",
       "      <th>2</th>\n",
       "      <td>713982108</td>\n",
       "      <td>Blue</td>\n",
       "      <td>Mid Up</td>\n",
       "      <td>1</td>\n",
       "      <td>0</td>\n",
       "      <td>1887</td>\n",
       "      <td>20</td>\n",
       "    </tr>\n",
       "    <tr>\n",
       "      <th>3</th>\n",
       "      <td>769911858</td>\n",
       "      <td>Blue</td>\n",
       "      <td>Low</td>\n",
       "      <td>4</td>\n",
       "      <td>1</td>\n",
       "      <td>1171</td>\n",
       "      <td>20</td>\n",
       "    </tr>\n",
       "    <tr>\n",
       "      <th>4</th>\n",
       "      <td>709106358</td>\n",
       "      <td>Blue</td>\n",
       "      <td>Mid</td>\n",
       "      <td>1</td>\n",
       "      <td>0</td>\n",
       "      <td>816</td>\n",
       "      <td>28</td>\n",
       "    </tr>\n",
       "  </tbody>\n",
       "</table>\n",
       "</div>"
      ],
      "text/plain": [
       "   CLIENTNUM Card_Category  income  Months_Inactive_12_mon  \\\n",
       "0  768805383          Blue     Mid                       1   \n",
       "1  818770008          Blue     Low                       1   \n",
       "2  713982108          Blue  Mid Up                       1   \n",
       "3  769911858          Blue     Low                       4   \n",
       "4  709106358          Blue     Mid                       1   \n",
       "\n",
       "   Contacts_Count_12_mon  Total_Trans_Amt  Total_Trans_Ct  \n",
       "0                      3             1144              42  \n",
       "1                      2             1291              33  \n",
       "2                      0             1887              20  \n",
       "3                      1             1171              20  \n",
       "4                      0              816              28  "
      ]
     },
     "execution_count": 94,
     "metadata": {},
     "output_type": "execute_result"
    }
   ],
   "source": [
    "vis2.head()"
   ]
  },
  {
   "cell_type": "code",
   "execution_count": 101,
   "id": "bd169eaf",
   "metadata": {
    "collapsed": true
   },
   "outputs": [
    {
     "name": "stderr",
     "output_type": "stream",
     "text": [
      "C:\\Users\\user\\AppData\\Local\\Temp\\ipykernel_9924\\2185720385.py:1: SettingWithCopyWarning: \n",
      "A value is trying to be set on a copy of a slice from a DataFrame.\n",
      "Try using .loc[row_indexer,col_indexer] = value instead\n",
      "\n",
      "See the caveats in the documentation: https://pandas.pydata.org/pandas-docs/stable/user_guide/indexing.html#returning-a-view-versus-a-copy\n",
      "  vis2['Card_Index'] = np.where(vis2['Card_Category'] == 'Silver',2,1)\n",
      "C:\\Users\\user\\AppData\\Local\\Temp\\ipykernel_9924\\2185720385.py:2: SettingWithCopyWarning: \n",
      "A value is trying to be set on a copy of a slice from a DataFrame.\n",
      "Try using .loc[row_indexer,col_indexer] = value instead\n",
      "\n",
      "See the caveats in the documentation: https://pandas.pydata.org/pandas-docs/stable/user_guide/indexing.html#returning-a-view-versus-a-copy\n",
      "  vis2['Card_Index'] = np.where(vis2['Card_Category'] == 'Gold',3,vis2['Card_Index'])\n",
      "C:\\Users\\user\\AppData\\Local\\Temp\\ipykernel_9924\\2185720385.py:3: SettingWithCopyWarning: \n",
      "A value is trying to be set on a copy of a slice from a DataFrame.\n",
      "Try using .loc[row_indexer,col_indexer] = value instead\n",
      "\n",
      "See the caveats in the documentation: https://pandas.pydata.org/pandas-docs/stable/user_guide/indexing.html#returning-a-view-versus-a-copy\n",
      "  vis2['Card_Index'] = np.where(vis2['Card_Category'] == 'Platinum',4,vis2['Card_Index'])\n"
     ]
    }
   ],
   "source": [
    "vis2['Card_Index'] = np.where(vis2['Card_Category'] == 'Silver',2,1)\n",
    "vis2['Card_Index'] = np.where(vis2['Card_Category'] == 'Gold',3,vis2['Card_Index'])\n",
    "vis2['Card_Index'] = np.where(vis2['Card_Category'] == 'Platinum',4,vis2['Card_Index'])\n"
   ]
  },
  {
   "cell_type": "code",
   "execution_count": 127,
   "id": "a916ea21",
   "metadata": {
    "id": "a916ea21",
    "outputId": "ae092725-fc99-44ca-95ca-b87d1ff16382"
   },
   "outputs": [
    {
     "data": {
      "image/png": "[encoded data removed]",
      "text/plain": [
       "<Figure size 500x500 with 1 Axes>"
      ]
     },
     "metadata": {},
     "output_type": "display_data"
    }
   ],
   "source": [
    "plt.hist(vis2['Card_Index'], bins=4)\n",
    "plt.title('Card Distribution')\n",
    "plt.xlabel('Card Index')\n",
    "plt.ylabel('count')\n",
    "plt.show()"
   ]
  },
  {
   "cell_type": "code",
   "execution_count": 79,
   "id": "8082d516",
   "metadata": {},
   "outputs": [
    {
     "data": {
      "text/html": [
       "<div>\n",
       "<style scoped>\n",
       "    .dataframe tbody tr th:only-of-type {\n",
       "        vertical-align: middle;\n",
       "    }\n",
       "\n",
       "    .dataframe tbody tr th {\n",
       "        vertical-align: top;\n",
       "    }\n",
       "\n",
       "    .dataframe thead th {\n",
       "        text-align: right;\n",
       "    }\n",
       "</style>\n",
       "<table border=\"1\" class=\"dataframe\">\n",
       "  <thead>\n",
       "    <tr style=\"text-align: right;\">\n",
       "      <th></th>\n",
       "      <th>CLIENTNUM</th>\n",
       "    </tr>\n",
       "    <tr>\n",
       "      <th>Card_Category</th>\n",
       "      <th></th>\n",
       "    </tr>\n",
       "  </thead>\n",
       "  <tbody>\n",
       "    <tr>\n",
       "      <th>Blue</th>\n",
       "      <td>9436</td>\n",
       "    </tr>\n",
       "    <tr>\n",
       "      <th>Gold</th>\n",
       "      <td>116</td>\n",
       "    </tr>\n",
       "    <tr>\n",
       "      <th>Platinum</th>\n",
       "      <td>20</td>\n",
       "    </tr>\n",
       "    <tr>\n",
       "      <th>Silver</th>\n",
       "      <td>555</td>\n",
       "    </tr>\n",
       "  </tbody>\n",
       "</table>\n",
       "</div>"
      ],
      "text/plain": [
       "               CLIENTNUM\n",
       "Card_Category           \n",
       "Blue                9436\n",
       "Gold                 116\n",
       "Platinum              20\n",
       "Silver               555"
      ]
     },
     "execution_count": 79,
     "metadata": {},
     "output_type": "execute_result"
    }
   ],
   "source": [
    "vis2.groupby('Card_Category')[['CLIENTNUM']].count()"
   ]
  },
  {
   "cell_type": "code",
   "execution_count": 85,
   "id": "f3fc0759",
   "metadata": {},
   "outputs": [
    {
     "data": {
      "image/png": "[encoded data removed]",
      "text/plain": [
       "<Figure size 500x500 with 1 Axes>"
      ]
     },
     "metadata": {},
     "output_type": "display_data"
    }
   ],
   "source": [
    "card_cat = vis2.groupby('Card_Category')[['CLIENTNUM']].count().reset_index()\n",
    "plt.bar(card_cat['Card_Category'],card_cat['CLIENTNUM'],color=['Blue','Gold','Grey','Silver'])\n",
    "plt.title('Number of Card Holder')\n",
    "plt.xlabel('Card Type')\n",
    "plt.ylabel('Card Holder')\n",
    "plt.show()"
   ]
  },
  {
   "cell_type": "code",
   "execution_count": 86,
   "id": "aa647c8a",
   "metadata": {},
   "outputs": [
    {
     "data": {
      "text/plain": [
       "([<matplotlib.patches.Wedge at 0x1c386991480>,\n",
       "  <matplotlib.patches.Wedge at 0x1c386771210>,\n",
       "  <matplotlib.patches.Wedge at 0x1c386772e30>,\n",
       "  <matplotlib.patches.Wedge at 0x1c3867738b0>],\n",
       " [Text(-1.0748236255123569, 0.23399609834455073, 'Blue'),\n",
       "  Text(1.0162511744449803, -0.4209911524476478, 'Gold'),\n",
       "  Text(1.0331031377740856, -0.37775376466865185, 'Platinum'),\n",
       "  Text(1.0837365179850522, -0.18845466188352708, 'Silver')],\n",
       " [Text(-0.5862674320976492, 0.12763423546066402, '93.2%'),\n",
       "  Text(0.5543188224245346, -0.22963153769871694, '1.1%'),\n",
       "  Text(0.5635108024222284, -0.2060475080010828, '0.2%'),\n",
       "  Text(0.5911290098100285, -0.1027934519364693, '5.5%')])"
      ]
     },
     "execution_count": 86,
     "metadata": {},
     "output_type": "execute_result"
    },
    {
     "data": {
      "image/png": "[encoded data removed]",
      "text/plain": [
       "<Figure size 500x500 with 1 Axes>"
      ]
     },
     "metadata": {},
     "output_type": "display_data"
    }
   ],
   "source": [
    "plt.pie(x=card_cat['CLIENTNUM'], labels=card_cat['Card_Category'],colors=['Blue','Gold','Grey','Silver'], autopct='%1.1f%%')"
   ]
  },
  {
   "cell_type": "markdown",
   "id": "e8ec2ed9",
   "metadata": {},
   "source": [
    "Secara distribusi, histogram yang dihasilkan menunjukan right skew distribution. Dari histogram tersebut pun dapat dilihat bahwa kebanyakan customer memegang Blue card dengan jumlah 9436 dari 10172 customer.Secara komposisi, jumlah ini adalah 93.3% dari total customer. Kartu blue dapat disimpulkan sebagai kartu yang paling populer, customer baru mungkin bisa ditawarkan untuk membuat kartu ini. Namun, apakah kartu yang dipengaruhi pada pendapatan? Mengetahui hal ini dapat memberikan insight tentang strategi memutuskan limit kartu, atau bahkan perks yang diberikan."
   ]
  },
  {
   "cell_type": "markdown",
   "id": "c931237a",
   "metadata": {},
   "source": [
    "### ---------------------------------------------------DIVIDER------------------------------------------------"
   ]
  },
  {
   "cell_type": "markdown",
   "id": "e944b165",
   "metadata": {},
   "source": [
    "Untuk mendapatkan angka yang lebih akurat, saya membagi data vis2 ke dalam 4 kategori kartu"
   ]
  },
  {
   "cell_type": "code",
   "execution_count": 104,
   "id": "d6de9617",
   "metadata": {},
   "outputs": [],
   "source": [
    "platinum = vis2.loc[vis2['Card_Category']=='Platinum']\n",
    "silver = vis2.loc[vis2['Card_Category']=='Silver']\n",
    "gold = vis2.loc[vis2['Card_Category']=='Gold']\n",
    "blue = vis2.loc[vis2['Card_Category']=='Blue']"
   ]
  },
  {
   "cell_type": "markdown",
   "id": "5389b0b5",
   "metadata": {},
   "source": [
    "### Platinum Card Holder"
   ]
  },
  {
   "cell_type": "code",
   "execution_count": 108,
   "id": "546ebab0",
   "metadata": {},
   "outputs": [
    {
     "data": {
      "text/html": [
       "<div>\n",
       "<style scoped>\n",
       "    .dataframe tbody tr th:only-of-type {\n",
       "        vertical-align: middle;\n",
       "    }\n",
       "\n",
       "    .dataframe tbody tr th {\n",
       "        vertical-align: top;\n",
       "    }\n",
       "\n",
       "    .dataframe thead th {\n",
       "        text-align: right;\n",
       "    }\n",
       "</style>\n",
       "<table border=\"1\" class=\"dataframe\">\n",
       "  <thead>\n",
       "    <tr style=\"text-align: right;\">\n",
       "      <th></th>\n",
       "      <th>income</th>\n",
       "      <th>Card_Category</th>\n",
       "    </tr>\n",
       "  </thead>\n",
       "  <tbody>\n",
       "    <tr>\n",
       "      <th>0</th>\n",
       "      <td>High</td>\n",
       "      <td>4</td>\n",
       "    </tr>\n",
       "    <tr>\n",
       "      <th>1</th>\n",
       "      <td>Low</td>\n",
       "      <td>4</td>\n",
       "    </tr>\n",
       "    <tr>\n",
       "      <th>2</th>\n",
       "      <td>Mid</td>\n",
       "      <td>4</td>\n",
       "    </tr>\n",
       "    <tr>\n",
       "      <th>3</th>\n",
       "      <td>Mid Low</td>\n",
       "      <td>1</td>\n",
       "    </tr>\n",
       "    <tr>\n",
       "      <th>4</th>\n",
       "      <td>Mid Up</td>\n",
       "      <td>2</td>\n",
       "    </tr>\n",
       "  </tbody>\n",
       "</table>\n",
       "</div>"
      ],
      "text/plain": [
       "    income  Card_Category\n",
       "0     High              4\n",
       "1      Low              4\n",
       "2      Mid              4\n",
       "3  Mid Low              1\n",
       "4   Mid Up              2"
      ]
     },
     "execution_count": 108,
     "metadata": {},
     "output_type": "execute_result"
    }
   ],
   "source": [
    "pl = platinum.groupby('income')[['Card_Category']].count().reset_index()\n",
    "pl = pl.drop(5)\n",
    "pl"
   ]
  },
  {
   "cell_type": "code",
   "execution_count": 126,
   "id": "9af12a5b",
   "metadata": {},
   "outputs": [
    {
     "data": {
      "image/png": "[encoded data removed]",
      "text/plain": [
       "<Figure size 500x500 with 1 Axes>"
      ]
     },
     "metadata": {},
     "output_type": "display_data"
    }
   ],
   "source": [
    "plt.barh(pl['income'], pl['Card_Category'])\n",
    "plt.title('Platinum Cust Count')\n",
    "plt.xlabel('Count')\n",
    "plt.ylabel('Income')\n",
    "plt.show()"
   ]
  },
  {
   "cell_type": "markdown",
   "id": "6999442a",
   "metadata": {},
   "source": [
    "### Gold Card Holder"
   ]
  },
  {
   "cell_type": "code",
   "execution_count": 109,
   "id": "90a085a6",
   "metadata": {},
   "outputs": [
    {
     "data": {
      "text/html": [
       "<div>\n",
       "<style scoped>\n",
       "    .dataframe tbody tr th:only-of-type {\n",
       "        vertical-align: middle;\n",
       "    }\n",
       "\n",
       "    .dataframe tbody tr th {\n",
       "        vertical-align: top;\n",
       "    }\n",
       "\n",
       "    .dataframe thead th {\n",
       "        text-align: right;\n",
       "    }\n",
       "</style>\n",
       "<table border=\"1\" class=\"dataframe\">\n",
       "  <thead>\n",
       "    <tr style=\"text-align: right;\">\n",
       "      <th></th>\n",
       "      <th>income</th>\n",
       "      <th>Card_Category</th>\n",
       "    </tr>\n",
       "  </thead>\n",
       "  <tbody>\n",
       "    <tr>\n",
       "      <th>0</th>\n",
       "      <td>High</td>\n",
       "      <td>18</td>\n",
       "    </tr>\n",
       "    <tr>\n",
       "      <th>1</th>\n",
       "      <td>Low</td>\n",
       "      <td>24</td>\n",
       "    </tr>\n",
       "    <tr>\n",
       "      <th>2</th>\n",
       "      <td>Mid</td>\n",
       "      <td>29</td>\n",
       "    </tr>\n",
       "    <tr>\n",
       "      <th>3</th>\n",
       "      <td>Mid Low</td>\n",
       "      <td>15</td>\n",
       "    </tr>\n",
       "    <tr>\n",
       "      <th>4</th>\n",
       "      <td>Mid Up</td>\n",
       "      <td>21</td>\n",
       "    </tr>\n",
       "  </tbody>\n",
       "</table>\n",
       "</div>"
      ],
      "text/plain": [
       "    income  Card_Category\n",
       "0     High             18\n",
       "1      Low             24\n",
       "2      Mid             29\n",
       "3  Mid Low             15\n",
       "4   Mid Up             21"
      ]
     },
     "execution_count": 109,
     "metadata": {},
     "output_type": "execute_result"
    }
   ],
   "source": [
    "gl = gold.groupby('income')[['Card_Category']].count().reset_index()\n",
    "gl = gl.drop(5)\n",
    "gl"
   ]
  },
  {
   "cell_type": "code",
   "execution_count": 124,
   "id": "2bff614a",
   "metadata": {},
   "outputs": [
    {
     "data": {
      "image/png": "[encoded data removed]",
      "text/plain": [
       "<Figure size 500x500 with 1 Axes>"
      ]
     },
     "metadata": {},
     "output_type": "display_data"
    }
   ],
   "source": [
    "plt.barh(gl['income'], gl['Card_Category'])\n",
    "plt.title('Gold Cust Count')\n",
    "plt.xlabel('Count')\n",
    "plt.ylabel('Income')\n",
    "plt.show()"
   ]
  },
  {
   "cell_type": "markdown",
   "id": "610bdbce",
   "metadata": {},
   "source": [
    "### SIlver Card Holder"
   ]
  },
  {
   "cell_type": "code",
   "execution_count": 111,
   "id": "e61db86f",
   "metadata": {},
   "outputs": [
    {
     "data": {
      "text/html": [
       "<div>\n",
       "<style scoped>\n",
       "    .dataframe tbody tr th:only-of-type {\n",
       "        vertical-align: middle;\n",
       "    }\n",
       "\n",
       "    .dataframe tbody tr th {\n",
       "        vertical-align: top;\n",
       "    }\n",
       "\n",
       "    .dataframe thead th {\n",
       "        text-align: right;\n",
       "    }\n",
       "</style>\n",
       "<table border=\"1\" class=\"dataframe\">\n",
       "  <thead>\n",
       "    <tr style=\"text-align: right;\">\n",
       "      <th></th>\n",
       "      <th>income</th>\n",
       "      <th>Card_Category</th>\n",
       "    </tr>\n",
       "  </thead>\n",
       "  <tbody>\n",
       "    <tr>\n",
       "      <th>0</th>\n",
       "      <td>High</td>\n",
       "      <td>60</td>\n",
       "    </tr>\n",
       "    <tr>\n",
       "      <th>1</th>\n",
       "      <td>Low</td>\n",
       "      <td>130</td>\n",
       "    </tr>\n",
       "    <tr>\n",
       "      <th>2</th>\n",
       "      <td>Mid</td>\n",
       "      <td>96</td>\n",
       "    </tr>\n",
       "    <tr>\n",
       "      <th>3</th>\n",
       "      <td>Mid Low</td>\n",
       "      <td>99</td>\n",
       "    </tr>\n",
       "    <tr>\n",
       "      <th>4</th>\n",
       "      <td>Mid Up</td>\n",
       "      <td>117</td>\n",
       "    </tr>\n",
       "  </tbody>\n",
       "</table>\n",
       "</div>"
      ],
      "text/plain": [
       "    income  Card_Category\n",
       "0     High             60\n",
       "1      Low            130\n",
       "2      Mid             96\n",
       "3  Mid Low             99\n",
       "4   Mid Up            117"
      ]
     },
     "execution_count": 111,
     "metadata": {},
     "output_type": "execute_result"
    }
   ],
   "source": [
    "sl = silver.groupby('income')[['Card_Category']].count().reset_index()\n",
    "sl = sl.drop(5)\n",
    "sl"
   ]
  },
  {
   "cell_type": "code",
   "execution_count": 123,
   "id": "b231239f",
   "metadata": {},
   "outputs": [
    {
     "data": {
      "image/png": "[encoded data removed]",
      "text/plain": [
       "<Figure size 500x500 with 1 Axes>"
      ]
     },
     "metadata": {},
     "output_type": "display_data"
    }
   ],
   "source": [
    "plt.barh(sl['income'], sl['Card_Category'])\n",
    "plt.title('Silver Cust Count')\n",
    "plt.xlabel('Count')\n",
    "plt.ylabel('Income')\n",
    "plt.show()"
   ]
  },
  {
   "cell_type": "markdown",
   "id": "4f21aa86",
   "metadata": {},
   "source": [
    "### Blue Card Holder"
   ]
  },
  {
   "cell_type": "code",
   "execution_count": 112,
   "id": "a831f280",
   "metadata": {},
   "outputs": [
    {
     "data": {
      "text/html": [
       "<div>\n",
       "<style scoped>\n",
       "    .dataframe tbody tr th:only-of-type {\n",
       "        vertical-align: middle;\n",
       "    }\n",
       "\n",
       "    .dataframe tbody tr th {\n",
       "        vertical-align: top;\n",
       "    }\n",
       "\n",
       "    .dataframe thead th {\n",
       "        text-align: right;\n",
       "    }\n",
       "</style>\n",
       "<table border=\"1\" class=\"dataframe\">\n",
       "  <thead>\n",
       "    <tr style=\"text-align: right;\">\n",
       "      <th></th>\n",
       "      <th>income</th>\n",
       "      <th>Card_Category</th>\n",
       "    </tr>\n",
       "  </thead>\n",
       "  <tbody>\n",
       "    <tr>\n",
       "      <th>0</th>\n",
       "      <td>High</td>\n",
       "      <td>645</td>\n",
       "    </tr>\n",
       "    <tr>\n",
       "      <th>1</th>\n",
       "      <td>Low</td>\n",
       "      <td>3403</td>\n",
       "    </tr>\n",
       "    <tr>\n",
       "      <th>2</th>\n",
       "      <td>Mid</td>\n",
       "      <td>1273</td>\n",
       "    </tr>\n",
       "    <tr>\n",
       "      <th>3</th>\n",
       "      <td>Mid Low</td>\n",
       "      <td>1675</td>\n",
       "    </tr>\n",
       "    <tr>\n",
       "      <th>4</th>\n",
       "      <td>Mid Up</td>\n",
       "      <td>1395</td>\n",
       "    </tr>\n",
       "  </tbody>\n",
       "</table>\n",
       "</div>"
      ],
      "text/plain": [
       "    income  Card_Category\n",
       "0     High            645\n",
       "1      Low           3403\n",
       "2      Mid           1273\n",
       "3  Mid Low           1675\n",
       "4   Mid Up           1395"
      ]
     },
     "execution_count": 112,
     "metadata": {},
     "output_type": "execute_result"
    }
   ],
   "source": [
    "bl = blue.groupby('income')[['Card_Category']].count().reset_index()\n",
    "bl = bl.drop(5)\n",
    "bl"
   ]
  },
  {
   "cell_type": "code",
   "execution_count": 122,
   "id": "df657064",
   "metadata": {},
   "outputs": [
    {
     "data": {
      "image/png": "[encoded data removed]",
      "text/plain": [
       "<Figure size 500x500 with 1 Axes>"
      ]
     },
     "metadata": {},
     "output_type": "display_data"
    }
   ],
   "source": [
    "plt.barh(bl['income'], bl['Card_Category'])\n",
    "plt.title('Blue Cust Count')\n",
    "plt.xlabel('Count')\n",
    "plt.ylabel('Income')\n",
    "plt.show()"
   ]
  },
  {
   "cell_type": "markdown",
   "id": "a21fe861",
   "metadata": {},
   "source": [
    "Secara kasat mata, status pendapatan terkesan tidak mempengaruhi kartu apa yang digunakan oleh customer. Kemungkinan, status kartu kredit ditentukan berdasarkan loyalitas atau seberapa sering kartu tersebut digunakan. Namun, angka customer masing-masing kartu terlalu timpang satu sama lain sehingga akan sulit menarik kesimpulan yang konkrit tanpa informasi-informasi tambahan."
   ]
  },
  {
   "cell_type": "markdown",
   "id": "2163b17b",
   "metadata": {},
   "source": [
    "### ---------------------------------------------------DIVIDER------------------------------------------------"
   ]
  },
  {
   "cell_type": "markdown",
   "id": "52e85cd6",
   "metadata": {},
   "source": [
    "# Keaktifan Customer"
   ]
  },
  {
   "cell_type": "markdown",
   "id": "259985b1",
   "metadata": {},
   "source": [
    "Bagian ini melihat rata-rata durasi customer tidak menggunakan kartu kredit"
   ]
  },
  {
   "cell_type": "code",
   "execution_count": 45,
   "id": "2570f147",
   "metadata": {
    "id": "2570f147",
    "outputId": "36f5c8b4-f61c-47b5-87da-ae9b0fcb56a1"
   },
   "outputs": [
    {
     "data": {
      "text/html": [
       "<div>\n",
       "<style scoped>\n",
       "    .dataframe tbody tr th:only-of-type {\n",
       "        vertical-align: middle;\n",
       "    }\n",
       "\n",
       "    .dataframe tbody tr th {\n",
       "        vertical-align: top;\n",
       "    }\n",
       "\n",
       "    .dataframe thead th {\n",
       "        text-align: right;\n",
       "    }\n",
       "</style>\n",
       "<table border=\"1\" class=\"dataframe\">\n",
       "  <thead>\n",
       "    <tr style=\"text-align: right;\">\n",
       "      <th></th>\n",
       "      <th>Card_Category</th>\n",
       "      <th>Months_Inactive_12_mon</th>\n",
       "    </tr>\n",
       "  </thead>\n",
       "  <tbody>\n",
       "    <tr>\n",
       "      <th>0</th>\n",
       "      <td>Blue</td>\n",
       "      <td>2.345697</td>\n",
       "    </tr>\n",
       "    <tr>\n",
       "      <th>1</th>\n",
       "      <td>Gold</td>\n",
       "      <td>2.310345</td>\n",
       "    </tr>\n",
       "    <tr>\n",
       "      <th>2</th>\n",
       "      <td>Platinum</td>\n",
       "      <td>2.250000</td>\n",
       "    </tr>\n",
       "    <tr>\n",
       "      <th>3</th>\n",
       "      <td>Silver</td>\n",
       "      <td>2.273874</td>\n",
       "    </tr>\n",
       "  </tbody>\n",
       "</table>\n",
       "</div>"
      ],
      "text/plain": [
       "  Card_Category  Months_Inactive_12_mon\n",
       "0          Blue                2.345697\n",
       "1          Gold                2.310345\n",
       "2      Platinum                2.250000\n",
       "3        Silver                2.273874"
      ]
     },
     "execution_count": 45,
     "metadata": {},
     "output_type": "execute_result"
    }
   ],
   "source": [
    "inactive_user = vis2.groupby('Card_Category')[['Months_Inactive_12_mon']].mean().reset_index()\n",
    "inactive_user"
   ]
  },
  {
   "cell_type": "code",
   "execution_count": 46,
   "id": "a5dd630c",
   "metadata": {
    "id": "a5dd630c",
    "outputId": "9967a5ed-1edf-4318-eb38-5cefaa6cfb58"
   },
   "outputs": [
    {
     "data": {
      "image/png": "[encoded data removed]",
      "text/plain": [
       "<Figure size 500x500 with 1 Axes>"
      ]
     },
     "metadata": {},
     "output_type": "display_data"
    }
   ],
   "source": [
    "plt.barh(inactive_user['Card_Category'], inactive_user['Months_Inactive_12_mon'], color=['Blue','Gold','Grey','Silver'])\n",
    "plt.show()"
   ]
  },
  {
   "cell_type": "markdown",
   "id": "6f57c6b8",
   "metadata": {},
   "source": [
    "Rata-rata customer tidak menggunakan kartunya selama 2 bulan, baik itu pengguna kartu Blue, Silver, Gold, atau Platinum. Menunjukkan bahwa customer relatif aktif dalam menggunakan kartu kredit."
   ]
  },
  {
   "cell_type": "markdown",
   "id": "cbc9537e",
   "metadata": {},
   "source": [
    "### ---------------------------------------------------DIVIDER------------------------------------------------"
   ]
  },
  {
   "cell_type": "markdown",
   "id": "72ac981a",
   "metadata": {
    "id": "72ac981a"
   },
   "source": [
    "# Apakah Income Mempengaruhi Transaksi?"
   ]
  },
  {
   "cell_type": "markdown",
   "id": "ed1d55e5",
   "metadata": {},
   "source": [
    "Bagian ini akan melihat apakah pendapatan seseorang akan mempengaruhi transaksi yang dilakukan, baik banyaknya transaksi (count) ataupun besar value transaksi (amount)."
   ]
  },
  {
   "cell_type": "code",
   "execution_count": 49,
   "id": "f4a87230",
   "metadata": {
    "id": "f4a87230",
    "outputId": "dd5c1284-c723-4731-ef3b-6c1d7995d687"
   },
   "outputs": [
    {
     "data": {
      "text/html": [
       "<div>\n",
       "<style scoped>\n",
       "    .dataframe tbody tr th:only-of-type {\n",
       "        vertical-align: middle;\n",
       "    }\n",
       "\n",
       "    .dataframe tbody tr th {\n",
       "        vertical-align: top;\n",
       "    }\n",
       "\n",
       "    .dataframe thead th {\n",
       "        text-align: right;\n",
       "    }\n",
       "</style>\n",
       "<table border=\"1\" class=\"dataframe\">\n",
       "  <thead>\n",
       "    <tr style=\"text-align: right;\">\n",
       "      <th></th>\n",
       "      <th>CLIENTNUM</th>\n",
       "      <th>Card_Category</th>\n",
       "      <th>Credit_Limit</th>\n",
       "      <th>Total_Trans_Amt</th>\n",
       "      <th>Total_Trans_Ct</th>\n",
       "      <th>income</th>\n",
       "      <th>income_index</th>\n",
       "    </tr>\n",
       "  </thead>\n",
       "  <tbody>\n",
       "    <tr>\n",
       "      <th>0</th>\n",
       "      <td>768805383</td>\n",
       "      <td>Blue</td>\n",
       "      <td>12691.0</td>\n",
       "      <td>1144</td>\n",
       "      <td>42</td>\n",
       "      <td>Mid</td>\n",
       "      <td>3</td>\n",
       "    </tr>\n",
       "    <tr>\n",
       "      <th>1</th>\n",
       "      <td>818770008</td>\n",
       "      <td>Blue</td>\n",
       "      <td>8256.0</td>\n",
       "      <td>1291</td>\n",
       "      <td>33</td>\n",
       "      <td>Low</td>\n",
       "      <td>1</td>\n",
       "    </tr>\n",
       "    <tr>\n",
       "      <th>2</th>\n",
       "      <td>713982108</td>\n",
       "      <td>Blue</td>\n",
       "      <td>3418.0</td>\n",
       "      <td>1887</td>\n",
       "      <td>20</td>\n",
       "      <td>Mid Up</td>\n",
       "      <td>4</td>\n",
       "    </tr>\n",
       "    <tr>\n",
       "      <th>3</th>\n",
       "      <td>769911858</td>\n",
       "      <td>Blue</td>\n",
       "      <td>3313.0</td>\n",
       "      <td>1171</td>\n",
       "      <td>20</td>\n",
       "      <td>Low</td>\n",
       "      <td>1</td>\n",
       "    </tr>\n",
       "    <tr>\n",
       "      <th>4</th>\n",
       "      <td>709106358</td>\n",
       "      <td>Blue</td>\n",
       "      <td>4716.0</td>\n",
       "      <td>816</td>\n",
       "      <td>28</td>\n",
       "      <td>Mid</td>\n",
       "      <td>3</td>\n",
       "    </tr>\n",
       "  </tbody>\n",
       "</table>\n",
       "</div>"
      ],
      "text/plain": [
       "   CLIENTNUM Card_Category  Credit_Limit  Total_Trans_Amt  Total_Trans_Ct  \\\n",
       "0  768805383          Blue       12691.0             1144              42   \n",
       "1  818770008          Blue        8256.0             1291              33   \n",
       "2  713982108          Blue        3418.0             1887              20   \n",
       "3  769911858          Blue        3313.0             1171              20   \n",
       "4  709106358          Blue        4716.0              816              28   \n",
       "\n",
       "   income  income_index  \n",
       "0     Mid             3  \n",
       "1     Low             1  \n",
       "2  Mid Up             4  \n",
       "3     Low             1  \n",
       "4     Mid             3  "
      ]
     },
     "execution_count": 49,
     "metadata": {},
     "output_type": "execute_result"
    }
   ],
   "source": [
    "vis3.head()"
   ]
  },
  {
   "cell_type": "code",
   "execution_count": 50,
   "id": "e7a308ee",
   "metadata": {
    "id": "e7a308ee",
    "outputId": "d5bfd11c-e3dc-4e09-affb-09a85c2a2300"
   },
   "outputs": [
    {
     "data": {
      "text/html": [
       "<div>\n",
       "<style scoped>\n",
       "    .dataframe tbody tr th:only-of-type {\n",
       "        vertical-align: middle;\n",
       "    }\n",
       "\n",
       "    .dataframe tbody tr th {\n",
       "        vertical-align: top;\n",
       "    }\n",
       "\n",
       "    .dataframe thead th {\n",
       "        text-align: right;\n",
       "    }\n",
       "</style>\n",
       "<table border=\"1\" class=\"dataframe\">\n",
       "  <thead>\n",
       "    <tr style=\"text-align: right;\">\n",
       "      <th></th>\n",
       "      <th>income</th>\n",
       "      <th>Total_Trans_Amt</th>\n",
       "      <th>Total_Trans_Ct</th>\n",
       "      <th>income_index</th>\n",
       "    </tr>\n",
       "  </thead>\n",
       "  <tbody>\n",
       "    <tr>\n",
       "      <th>0</th>\n",
       "      <td>High</td>\n",
       "      <td>4529.467675</td>\n",
       "      <td>63.704264</td>\n",
       "      <td>5.0</td>\n",
       "    </tr>\n",
       "    <tr>\n",
       "      <th>1</th>\n",
       "      <td>Mid Up</td>\n",
       "      <td>4482.960261</td>\n",
       "      <td>62.696417</td>\n",
       "      <td>4.0</td>\n",
       "    </tr>\n",
       "    <tr>\n",
       "      <th>2</th>\n",
       "      <td>Mid</td>\n",
       "      <td>4450.712553</td>\n",
       "      <td>63.247504</td>\n",
       "      <td>3.0</td>\n",
       "    </tr>\n",
       "    <tr>\n",
       "      <th>3</th>\n",
       "      <td>Mid Low</td>\n",
       "      <td>4405.618994</td>\n",
       "      <td>65.000559</td>\n",
       "      <td>2.0</td>\n",
       "    </tr>\n",
       "    <tr>\n",
       "      <th>4</th>\n",
       "      <td>Low</td>\n",
       "      <td>4363.420107</td>\n",
       "      <td>66.154732</td>\n",
       "      <td>1.0</td>\n",
       "    </tr>\n",
       "  </tbody>\n",
       "</table>\n",
       "</div>"
      ],
      "text/plain": [
       "    income  Total_Trans_Amt  Total_Trans_Ct  income_index\n",
       "0     High      4529.467675       63.704264           5.0\n",
       "1   Mid Up      4482.960261       62.696417           4.0\n",
       "2      Mid      4450.712553       63.247504           3.0\n",
       "3  Mid Low      4405.618994       65.000559           2.0\n",
       "4      Low      4363.420107       66.154732           1.0"
      ]
     },
     "execution_count": 50,
     "metadata": {},
     "output_type": "execute_result"
    }
   ],
   "source": [
    "trans = vis3.groupby('income')[['Total_Trans_Amt','Total_Trans_Ct','income_index']].mean().sort_values(by='income_index', ascending=False).reset_index()\n",
    "trans = trans.drop(5)\n",
    "trans"
   ]
  },
  {
   "cell_type": "code",
   "execution_count": 51,
   "id": "00c440de",
   "metadata": {
    "id": "00c440de",
    "outputId": "394fef74-6478-47a6-b5de-62fd29c96b29"
   },
   "outputs": [
    {
     "data": {
      "image/png": "[encoded data removed]",
      "text/plain": [
       "<Figure size 500x500 with 1 Axes>"
      ]
     },
     "metadata": {},
     "output_type": "display_data"
    }
   ],
   "source": [
    "plt.bar(trans['income'], trans['Total_Trans_Amt'], color=['Red','Blue','Green','Grey','Brown'])\n",
    "plt.title('Income and Total Transaction')\n",
    "plt.xlabel('Income Category')\n",
    "plt.ylabel('Total Transaction')\n",
    "plt.show()"
   ]
  },
  {
   "cell_type": "markdown",
   "id": "39b16a99",
   "metadata": {},
   "source": [
    "Pada bar chart di atas, terlihat jika masing-masing kelompok income cenderung serupa dalam jumlah pengeluarannya (trans amount). Secara logic, ini tidak mungkin karena income mempengaruhi daya beli seseorang. Oleh karena itu, saya gunakan scatter plot untuk lebih jelas melihatnya."
   ]
  },
  {
   "cell_type": "markdown",
   "id": "c52f3d22",
   "metadata": {},
   "source": [
    "### ---------------------------------------------------DIVIDER------------------------------------------------"
   ]
  },
  {
   "cell_type": "markdown",
   "id": "14512829",
   "metadata": {},
   "source": [
    "### Average Transaction Count based on Income"
   ]
  },
  {
   "cell_type": "code",
   "execution_count": 130,
   "id": "b36be508",
   "metadata": {
    "id": "b36be508",
    "outputId": "72f70c5c-5e15-4cca-d1dc-2b14334fb0b6"
   },
   "outputs": [
    {
     "data": {
      "text/html": [
       "<div>\n",
       "<style scoped>\n",
       "    .dataframe tbody tr th:only-of-type {\n",
       "        vertical-align: middle;\n",
       "    }\n",
       "\n",
       "    .dataframe tbody tr th {\n",
       "        vertical-align: top;\n",
       "    }\n",
       "\n",
       "    .dataframe thead th {\n",
       "        text-align: right;\n",
       "    }\n",
       "</style>\n",
       "<table border=\"1\" class=\"dataframe\">\n",
       "  <thead>\n",
       "    <tr style=\"text-align: right;\">\n",
       "      <th></th>\n",
       "      <th>income</th>\n",
       "      <th>Total_Trans_Amt</th>\n",
       "      <th>Total_Trans_Ct</th>\n",
       "      <th>income_index</th>\n",
       "    </tr>\n",
       "  </thead>\n",
       "  <tbody>\n",
       "    <tr>\n",
       "      <th>0</th>\n",
       "      <td>High</td>\n",
       "      <td>4529.467675</td>\n",
       "      <td>63.704264</td>\n",
       "      <td>5.0</td>\n",
       "    </tr>\n",
       "    <tr>\n",
       "      <th>1</th>\n",
       "      <td>Mid Up</td>\n",
       "      <td>4482.960261</td>\n",
       "      <td>62.696417</td>\n",
       "      <td>4.0</td>\n",
       "    </tr>\n",
       "    <tr>\n",
       "      <th>2</th>\n",
       "      <td>Mid</td>\n",
       "      <td>4450.712553</td>\n",
       "      <td>63.247504</td>\n",
       "      <td>3.0</td>\n",
       "    </tr>\n",
       "    <tr>\n",
       "      <th>3</th>\n",
       "      <td>Mid Low</td>\n",
       "      <td>4405.618994</td>\n",
       "      <td>65.000559</td>\n",
       "      <td>2.0</td>\n",
       "    </tr>\n",
       "    <tr>\n",
       "      <th>4</th>\n",
       "      <td>Low</td>\n",
       "      <td>4363.420107</td>\n",
       "      <td>66.154732</td>\n",
       "      <td>1.0</td>\n",
       "    </tr>\n",
       "  </tbody>\n",
       "</table>\n",
       "</div>"
      ],
      "text/plain": [
       "    income  Total_Trans_Amt  Total_Trans_Ct  income_index\n",
       "0     High      4529.467675       63.704264           5.0\n",
       "1   Mid Up      4482.960261       62.696417           4.0\n",
       "2      Mid      4450.712553       63.247504           3.0\n",
       "3  Mid Low      4405.618994       65.000559           2.0\n",
       "4      Low      4363.420107       66.154732           1.0"
      ]
     },
     "execution_count": 130,
     "metadata": {},
     "output_type": "execute_result"
    }
   ],
   "source": [
    "trans_cnt = vis3.groupby('income')[['Total_Trans_Amt','Total_Trans_Ct','income_index']].mean().sort_values(by='income_index',ascending=False).reset_index()\n",
    "trans_cnt = trans_cnt.drop(5)\n",
    "trans_cnt"
   ]
  },
  {
   "cell_type": "code",
   "execution_count": 131,
   "id": "5abd6981",
   "metadata": {
    "id": "5abd6981",
    "outputId": "fec74c4c-574c-4f69-c939-66a07f8a645f",
    "scrolled": false
   },
   "outputs": [
    {
     "data": {
      "image/png": "[encoded data removed]",
      "text/plain": [
       "<Figure size 500x500 with 1 Axes>"
      ]
     },
     "metadata": {},
     "output_type": "display_data"
    }
   ],
   "source": [
    "plt.scatter(trans_cnt['income'], trans_cnt['Total_Trans_Ct'])\n",
    "plt.title ('Transaction Count')\n",
    "plt.show()"
   ]
  },
  {
   "cell_type": "markdown",
   "id": "de497cc1",
   "metadata": {},
   "source": [
    "Scatter plot diatas menunjukkan rata-rata jumlah transaksi (trans count) yang dilakukan berdasarkan kelompok income. Dapat dilihat bahwa titik yang ada tidak menunjukkan garis lurus. Artinya, berapa kali seseorang menggunakan kartu kreditnya tidak dipengaruhi oleh pendapatan mereka."
   ]
  },
  {
   "cell_type": "markdown",
   "id": "6412b8e8",
   "metadata": {},
   "source": [
    "### Average Transaction Amount based on Income"
   ]
  },
  {
   "cell_type": "code",
   "execution_count": 54,
   "id": "9bc970ea",
   "metadata": {
    "id": "9bc970ea",
    "outputId": "ea86de7e-8cd5-4c15-d7d7-45774c21a269"
   },
   "outputs": [
    {
     "data": {
      "text/html": [
       "<div>\n",
       "<style scoped>\n",
       "    .dataframe tbody tr th:only-of-type {\n",
       "        vertical-align: middle;\n",
       "    }\n",
       "\n",
       "    .dataframe tbody tr th {\n",
       "        vertical-align: top;\n",
       "    }\n",
       "\n",
       "    .dataframe thead th {\n",
       "        text-align: right;\n",
       "    }\n",
       "</style>\n",
       "<table border=\"1\" class=\"dataframe\">\n",
       "  <thead>\n",
       "    <tr style=\"text-align: right;\">\n",
       "      <th></th>\n",
       "      <th>income</th>\n",
       "      <th>Total_Trans_Amt</th>\n",
       "      <th>Total_Trans_Ct</th>\n",
       "      <th>income_index</th>\n",
       "    </tr>\n",
       "  </thead>\n",
       "  <tbody>\n",
       "    <tr>\n",
       "      <th>1</th>\n",
       "      <td>Low</td>\n",
       "      <td>4363.420107</td>\n",
       "      <td>66.154732</td>\n",
       "      <td>1.0</td>\n",
       "    </tr>\n",
       "    <tr>\n",
       "      <th>2</th>\n",
       "      <td>Mid Low</td>\n",
       "      <td>4405.618994</td>\n",
       "      <td>65.000559</td>\n",
       "      <td>2.0</td>\n",
       "    </tr>\n",
       "    <tr>\n",
       "      <th>3</th>\n",
       "      <td>Mid</td>\n",
       "      <td>4450.712553</td>\n",
       "      <td>63.247504</td>\n",
       "      <td>3.0</td>\n",
       "    </tr>\n",
       "    <tr>\n",
       "      <th>4</th>\n",
       "      <td>Mid Up</td>\n",
       "      <td>4482.960261</td>\n",
       "      <td>62.696417</td>\n",
       "      <td>4.0</td>\n",
       "    </tr>\n",
       "    <tr>\n",
       "      <th>5</th>\n",
       "      <td>High</td>\n",
       "      <td>4529.467675</td>\n",
       "      <td>63.704264</td>\n",
       "      <td>5.0</td>\n",
       "    </tr>\n",
       "  </tbody>\n",
       "</table>\n",
       "</div>"
      ],
      "text/plain": [
       "    income  Total_Trans_Amt  Total_Trans_Ct  income_index\n",
       "1      Low      4363.420107       66.154732           1.0\n",
       "2  Mid Low      4405.618994       65.000559           2.0\n",
       "3      Mid      4450.712553       63.247504           3.0\n",
       "4   Mid Up      4482.960261       62.696417           4.0\n",
       "5     High      4529.467675       63.704264           5.0"
      ]
     },
     "execution_count": 54,
     "metadata": {},
     "output_type": "execute_result"
    }
   ],
   "source": [
    "trans_mean = vis3.groupby('income')[['Total_Trans_Amt','Total_Trans_Ct','income_index']].mean().sort_values(by='income_index',ascending=True).reset_index()\n",
    "trans_mean = trans_mean.drop(0)\n",
    "trans_mean"
   ]
  },
  {
   "cell_type": "code",
   "execution_count": 132,
   "id": "2e7405ce",
   "metadata": {
    "id": "2e7405ce",
    "outputId": "7742155d-fd17-468a-f759-36afea5cf1fd",
    "scrolled": false
   },
   "outputs": [
    {
     "data": {
      "image/png": "[encoded data removed]",
      "text/plain": [
       "<Figure size 500x500 with 1 Axes>"
      ]
     },
     "metadata": {},
     "output_type": "display_data"
    }
   ],
   "source": [
    "plt.scatter(trans_mean['income'],trans_mean['Total_Trans_Amt'])\n",
    "plt.title('Transaction Amount')\n",
    "plt.show()"
   ]
  },
  {
   "cell_type": "markdown",
   "id": "02e61643",
   "metadata": {},
   "source": [
    "Scatter plot di atas ini menunjukkan rerata value dari transaksi yang dilakukan (trans amount). Artinya, seberapa besar yang dikeluarkan oleh masing-masing kelompok menggunakan kartu kredit mereka. Pada plot di atas, terlihat jika titik terbentuk secara lurus, menunjukkan bahwa semakin tinggi pendapatan seseorang, maka semakin besar lah value transaksinya. Ini mendukung pemahaman tentang hubungan antara pendapatan dengan daya beli,bahwasanya semakin besar pendapatan, maka semakin tinggi pula daya beli seseorang."
   ]
  }
 ],
 "metadata": {
  "colab": {
   "provenance": []
  },
  "kernelspec": {
   "display_name": "Python 3 (ipykernel)",
   "language": "python",
   "name": "python3"
  },
  "language_info": {
   "codemirror_mode": {
    "name": "ipython",
    "version": 3
   },
   "file_extension": ".py",
   "mimetype": "text/x-python",
   "name": "python",
   "nbconvert_exporter": "python",
   "pygments_lexer": "ipython3",
   "version": "3.10.8"
  }
 },
 "nbformat": 4,
 "nbformat_minor": 5
}
